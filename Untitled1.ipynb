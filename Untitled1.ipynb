{
 "cells": [
  {
   "cell_type": "code",
   "execution_count": 1,
   "metadata": {
    "collapsed": true
   },
   "outputs": [],
   "source": [
    "from y_config import api_key \n",
    "import yelpapi\n",
    "import json\n",
    "import requests\n",
    "from  pprint import  pprint\n",
    "import pandas as pd\n",
    "import numpy as np\n",
    "import random\n",
    "\n",
    "counties=pd.read_csv(\"acs2015_county_data.csv\")\n",
    "counties[\"county_string\"] = counties[\"County\"] + \" County, \" + counties[\"State\"]\n",
    "listofcounties = counties[\"county_string\"].tolist()"
   ]
  },
  {
   "cell_type": "code",
   "execution_count": null,
   "metadata": {
    "collapsed": true
   },
   "outputs": [],
   "source": []
  },
  {
   "cell_type": "code",
   "execution_count": 12,
   "metadata": {},
   "outputs": [
    {
     "name": "stdout",
     "output_type": "stream",
     "text": [
      "<Response [500]>\n"
     ]
    }
   ],
   "source": [
    "#we are allowed 5000 queries per 24 hours. if we run out, we can create another. till then, use this\n",
    "api_key=\"C8I4eLOGfKC0Ni9OwrjQXNjQW5MHDwB34C390sRP5KLXpEwWg7Dbk-Sbq5REVgF19GtJxe-oe2xciOGfouLPahK4O9kArrG40ZsxXOKyaZ1u-NeU7RGgeOipBf7DWnYx\"\n",
    "delivery_res = requests.get(url=\"https://api.yelp.com/v3/transactions/delivery/search\", \n",
    "                        params= {\"location\": \"Mecklenburg County\", \"limit\":\"50\"}, \n",
    "                        headers={'Authorization': 'bearer %s' % api_key})\n",
    "# reservation_res = requests.get(url=\"https://api.yelp.com/v3/transactions/restaurant_reservation/search\", \n",
    "#                         params= {\"location\": \"Mecklenburg County\", \"limit\":\"50\"}, \n",
    "#                         headers={'Authorization': 'bearer %s' % api_key})\n",
    "# pickup_res = requests.get(url=\"https://api.yelp.com/v3/transactions/pickup/search\", \n",
    "#                         params= {\"location\": \"Mecklenburg County\", \"limit\":\"50\"}, \n",
    "#                         headers={'Authorization': 'bearer %s' % api_key})\n",
    "print(delivery_res)"
   ]
  },
  {
   "cell_type": "code",
   "execution_count": null,
   "metadata": {
    "collapsed": true
   },
   "outputs": [],
   "source": []
  },
  {
   "cell_type": "code",
   "execution_count": 17,
   "metadata": {},
   "outputs": [
    {
     "ename": "AttributeError",
     "evalue": "'str' object has no attribute 'transaction_search_query'",
     "output_type": "error",
     "traceback": [
      "\u001b[0;31m---------------------------------------------------------------------------\u001b[0m",
      "\u001b[0;31mAttributeError\u001b[0m                            Traceback (most recent call last)",
      "\u001b[0;32m<ipython-input-17-932701b1a02d>\u001b[0m in \u001b[0;36m<module>\u001b[0;34m()\u001b[0m\n\u001b[1;32m      1\u001b[0m \u001b[0;31m#Transaction Search API: https://www.yelp.com/developers/documentation/v3/transactions_search\u001b[0m\u001b[0;34m\u001b[0m\u001b[0;34m\u001b[0m\u001b[0m\n\u001b[1;32m      2\u001b[0m \u001b[0;31m# \\n{}\\n.format(yelp_api.transaction_search_(query(transaction_type= (\"delivery\"),location=\"Mecklenburg County\")))\u001b[0m\u001b[0;34m\u001b[0m\u001b[0;34m\u001b[0m\u001b[0m\n\u001b[0;32m----> 3\u001b[0;31m \u001b[0mresponse\u001b[0m \u001b[0;34m=\u001b[0m \u001b[0mapi_key\u001b[0m\u001b[0;34m.\u001b[0m\u001b[0mtransaction_search_query\u001b[0m\u001b[0;34m(\u001b[0m\u001b[0mtransaction_type\u001b[0m\u001b[0;34m=\u001b[0m\u001b[0;34m'delivery'\u001b[0m\u001b[0;34m,\u001b[0m \u001b[0mlocation\u001b[0m\u001b[0;34m=\u001b[0m\u001b[0;34m'Mecklenburg County'\u001b[0m\u001b[0;34m)\u001b[0m\u001b[0;34m\u001b[0m\u001b[0m\n\u001b[0m\u001b[1;32m      4\u001b[0m \u001b[0mpprint\u001b[0m\u001b[0;34m(\u001b[0m\u001b[0mresponse\u001b[0m\u001b[0;34m)\u001b[0m\u001b[0;34m\u001b[0m\u001b[0m\n",
      "\u001b[0;31mAttributeError\u001b[0m: 'str' object has no attribute 'transaction_search_query'"
     ]
    }
   ],
   "source": [
    "#Transaction Search API: https://www.yelp.com/developers/documentation/v3/transactions_search\n",
    "# \\n{}\\n.format(yelp_api.transaction_search_(query(transaction_type= (\"delivery\"),location=\"Mecklenburg County\")))\n",
    "response = api_key.transaction_search_query(transaction_type='delivery', location='Mecklenburg County')\n",
    "pprint(response)"
   ]
  },
  {
   "cell_type": "code",
   "execution_count": null,
   "metadata": {
    "collapsed": true
   },
   "outputs": [],
   "source": []
  }
 ],
 "metadata": {
  "kernelspec": {
   "display_name": "Python 3",
   "language": "python",
   "name": "python3"
  },
  "language_info": {
   "codemirror_mode": {
    "name": "ipython",
    "version": 3
   },
   "file_extension": ".py",
   "mimetype": "text/x-python",
   "name": "python",
   "nbconvert_exporter": "python",
   "pygments_lexer": "ipython3",
   "version": "3.6.3"
  }
 },
 "nbformat": 4,
 "nbformat_minor": 2
}
