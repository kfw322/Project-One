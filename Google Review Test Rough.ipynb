{
 "cells": [
  {
   "cell_type": "code",
   "execution_count": null,
   "metadata": {
    "collapsed": true
   },
   "outputs": [],
   "source": [
    "#target_city = {\"lat\": 35.227724, \"lng\": -80.839699} \n",
    "#target_coords = f\"{target_city['lat']},{target_city['lng']}\"\n",
    "\n",
    "#target_city = \"Charlotte,NC\"\n",
    "\n",
    "#target_url = \"https://maps.googleapis.com/maps/api/geocode/json?address=%s&key=%s\" % (target_city, g_key)\n",
    "    \n",
    "#print(target_url)\n",
    "\n",
    "#https://maps.googleapis.com/maps/api/place/details/output?parameters"
   ]
  },
  {
   "cell_type": "code",
   "execution_count": null,
   "metadata": {
    "collapsed": true
   },
   "outputs": [],
   "source": [
    "#parameters= {\n",
    "    #\"location\": target_coords,\n",
    "    #\"radius\": 8000,\n",
    "    #\"type\": \"restuarant\",}"
   ]
  },
  {
   "cell_type": "code",
   "execution_count": null,
   "metadata": {
    "collapsed": true
   },
   "outputs": [],
   "source": [
    "# response = requests.get()\n",
    "#response = requests.get(url=f\"https://maps.googleapis.com/maps/api/place/nearbysearch/output?{parameters}\"), \n",
    "    \n",
    "# restaurants_data = response.json()\n",
    "# pprint(restaurants_data)\n",
    "\n",
    "# Target city\n",
    "# Boise, Idaho {\"lat\": 43.6187102, \"lng\": -116.2146068}\n",
    "# New York, NY {\"lat\": 40.7128, \"lng\": -74.0059}"
   ]
  },
  {
   "cell_type": "code",
   "execution_count": null,
   "metadata": {
    "collapsed": true
   },
   "outputs": [],
   "source": [
    "#Set up lists for review Vader analysis\n",
    "counter = 1\n",
    "\n",
    "for i in reviews1:\n",
    "\n",
    "    sentiments = []\n",
    "\n",
    "    compound_list = []\n",
    "    positive_list = []\n",
    "    negative_list = []\n",
    "    neutral_list = []\n",
    "\n",
    "#Run Vader Analysis\n",
    "    compound = analyzer.polarity_scores(i)[\"compound\"]\n",
    "    pos = analyzer.polarity_scores(i)[\"pos\"]\n",
    "    neu = analyzer.polarity_scores(i)[\"neu\"]\n",
    "    neg = analyzer.polarity_scores(i)[\"neg\"]\n",
    "\n",
    "# Add each value to the appropriate array\n",
    "    compound_list.append(compound)\n",
    "    positive_list.append(pos)\n",
    "    negative_list.append(neg)\n",
    "    neutral_list.append(neu)\n",
    "\n",
    "    sentiments.append({\"Compound\":compound_list,\n",
    "                       \"Positive\":positive_list,\n",
    "                       \"Negative\":negative_list,\n",
    "                       \"Neutral\":neutral_list,\n",
    "                        \"Number Review\": counter})\n",
    "\n",
    "    counter = counter + 1\n",
    "\n",
    "sentiments_pd = pd.DataFrame.from_dict(sentiments)\n",
    "sentiments_pd.head()"
   ]
  },
  {
   "cell_type": "code",
   "execution_count": null,
   "metadata": {
    "collapsed": true
   },
   "outputs": [],
   "source": [
    "#not needed\n",
    "#for i in place_data_json['html_attributions']:\n",
    "   # review = i['text']\n",
    "   # reviews = requests.get(review)\n",
    "   #print(reviews)"
   ]
  }
 ],
 "metadata": {
  "kernelspec": {
   "display_name": "Python 3",
   "language": "python",
   "name": "python3"
  },
  "language_info": {
   "codemirror_mode": {
    "name": "ipython",
    "version": 3
   },
   "file_extension": ".py",
   "mimetype": "text/x-python",
   "name": "python",
   "nbconvert_exporter": "python",
   "pygments_lexer": "ipython3",
   "version": "3.6.3"
  }
 },
 "nbformat": 4,
 "nbformat_minor": 2
}
