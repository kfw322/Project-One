{
 "cells": [
  {
   "cell_type": "code",
   "execution_count": 1,
   "metadata": {},
   "outputs": [
    {
     "data": {
      "text/html": [
       "<div>\n",
       "<style>\n",
       "    .dataframe thead tr:only-child th {\n",
       "        text-align: right;\n",
       "    }\n",
       "\n",
       "    .dataframe thead th {\n",
       "        text-align: left;\n",
       "    }\n",
       "\n",
       "    .dataframe tbody tr th {\n",
       "        vertical-align: top;\n",
       "    }\n",
       "</style>\n",
       "<table border=\"1\" class=\"dataframe\">\n",
       "  <thead>\n",
       "    <tr style=\"text-align: right;\">\n",
       "      <th></th>\n",
       "      <th>CensusId</th>\n",
       "      <th>State</th>\n",
       "      <th>County</th>\n",
       "      <th>TotalPop</th>\n",
       "      <th>Men</th>\n",
       "      <th>Women</th>\n",
       "      <th>Hispanic</th>\n",
       "      <th>White</th>\n",
       "      <th>Black</th>\n",
       "      <th>Native</th>\n",
       "      <th>...</th>\n",
       "      <th>OtherTransp</th>\n",
       "      <th>WorkAtHome</th>\n",
       "      <th>MeanCommute</th>\n",
       "      <th>Employed</th>\n",
       "      <th>PrivateWork</th>\n",
       "      <th>PublicWork</th>\n",
       "      <th>SelfEmployed</th>\n",
       "      <th>FamilyWork</th>\n",
       "      <th>Unemployment</th>\n",
       "      <th>county_string</th>\n",
       "    </tr>\n",
       "  </thead>\n",
       "  <tbody>\n",
       "    <tr>\n",
       "      <th>0</th>\n",
       "      <td>1001</td>\n",
       "      <td>Alabama</td>\n",
       "      <td>Autauga</td>\n",
       "      <td>55221</td>\n",
       "      <td>26745</td>\n",
       "      <td>28476</td>\n",
       "      <td>2.6</td>\n",
       "      <td>75.8</td>\n",
       "      <td>18.5</td>\n",
       "      <td>0.4</td>\n",
       "      <td>...</td>\n",
       "      <td>1.3</td>\n",
       "      <td>1.8</td>\n",
       "      <td>26.5</td>\n",
       "      <td>23986</td>\n",
       "      <td>73.6</td>\n",
       "      <td>20.9</td>\n",
       "      <td>5.5</td>\n",
       "      <td>0.0</td>\n",
       "      <td>7.6</td>\n",
       "      <td>Autauga County, Alabama</td>\n",
       "    </tr>\n",
       "  </tbody>\n",
       "</table>\n",
       "<p>1 rows × 38 columns</p>\n",
       "</div>"
      ],
      "text/plain": [
       "   CensusId    State   County  TotalPop    Men  Women  Hispanic  White  Black  \\\n",
       "0      1001  Alabama  Autauga     55221  26745  28476       2.6   75.8   18.5   \n",
       "\n",
       "   Native           ...             OtherTransp  WorkAtHome  MeanCommute  \\\n",
       "0     0.4           ...                     1.3         1.8         26.5   \n",
       "\n",
       "   Employed  PrivateWork  PublicWork  SelfEmployed  FamilyWork  Unemployment  \\\n",
       "0     23986         73.6        20.9           5.5         0.0           7.6   \n",
       "\n",
       "             county_string  \n",
       "0  Autauga County, Alabama  \n",
       "\n",
       "[1 rows x 38 columns]"
      ]
     },
     "execution_count": 1,
     "metadata": {},
     "output_type": "execute_result"
    }
   ],
   "source": [
    "import yelpapi\n",
    "import json\n",
    "import requests\n",
    "from  pprint import  pprint\n",
    "import pandas as pd\n",
    "import numpy as np\n",
    "import random\n",
    "\n",
    "import matplotlib.pyplot as plt\n",
    "\n",
    "#reading in county data\n",
    "counties=pd.read_csv(\"acs2015_county_data.csv\")\n",
    "counties[\"county_string\"] = counties[\"County\"] + \" County, \" + counties[\"State\"]\n",
    "listofcounties = counties[\"county_string\"].tolist()\n",
    "#reading in zipcodes\n",
    "zipcodes=pd.read_csv(\"zip_codes_states.csv\")\n",
    "zipcodes[\"county_string\"] = zipcodes[\"county\"] + \" County, \" + zipcodes[\"state\"]\n",
    "listofzipcodes=zipcodes[\"county_string\"].unique().tolist()\n",
    "counties.to_csv(\"counties.csv\")\n",
    "zipcodes.to_csv(\"zcs.csv\")\n",
    "fullcountylist = list(set(listofcounties) & set(listofzipcodes))\n",
    "counties.head(1)"
   ]
  },
  {
   "cell_type": "code",
   "execution_count": 2,
   "metadata": {
    "collapsed": true
   },
   "outputs": [],
   "source": [
    "#creating regions\n",
    "WC = [\"Washington\",\"Oregon\",\"California\",\"Nevada\",\"Idaho\"]\n",
    "MW = [\"Montana\",\"Wyoming\",\"North Dakota\",\"South Dakota\",\"Nebraska\",\"Kansas\",\"Minnesota\",\"Iowa\",\"Missouri\",\n",
    "      \"Wisconsin\",\"Illinois\",\"Michigan\",\"Indiana\",\"Ohio\",\"Kentucky\"]\n",
    "SW = [\"Arizona\",\"Utah\",\"Colorado\",\"New Mexico\",\"Oklahoma\",\"Texas\"]\n",
    "SE = [\"Arkansas\",\"Louisiana\",\"Mississippi\",\"Alabama\",\"Tennessee\",\"Virginia\",\"West Virginia\",\"North Carolina\",\"South Carolina\",\"Georgia\",\"Florida\"]\n",
    "NE = [\"District of Columbia\",\"Pennsylvania\",\"Maryland\",\"Delaware\",\"New Jersey\",\"New York\",\"Maine\",\"New Hampshire\",\"Vermont\",\"Massachusetts\",\"Rhode Island\",\"Connecticut\"]\n",
    "counties[\"Region\"]= np.where(counties[\"State\"].isin(WC),'WC',\n",
    "                    np.where(counties[\"State\"].isin(MW),'MW',\n",
    "                    np.where(counties[\"State\"].isin(SW),'SW',\n",
    "                    np.where(counties[\"State\"].isin(SE),'SE',\n",
    "                    np.where(counties[\"State\"].isin(NE),'NE', \n",
    "                             'other')))))"
   ]
  },
  {
   "cell_type": "code",
   "execution_count": 3,
   "metadata": {},
   "outputs": [
    {
     "data": {
      "text/plain": [
       "['Douglas County, Nevada',\n",
       " 'Douglas County, Washington',\n",
       " 'Hettinger County, North Dakota',\n",
       " 'Price County, Wisconsin',\n",
       " 'Hamilton County, Texas',\n",
       " 'Dallam County, Texas',\n",
       " 'Hawkins County, Tennessee',\n",
       " 'Tishomingo County, Mississippi',\n",
       " 'Strafford County, New Hampshire',\n",
       " 'Delaware County, New York']"
      ]
     },
     "execution_count": 3,
     "metadata": {},
     "output_type": "execute_result"
    }
   ],
   "source": [
    "#counties.groupby([\"Region\"]).sum()[\"TotalPop\"]\n",
    "cdf = pd.DataFrame(counties,columns=[\"county_string\",\"Region\"])\n",
    "WClist = (cdf.groupby(\"Region\").get_group(\"WC\")[\"county_string\"]).tolist()\n",
    "MWlist = (cdf.groupby(\"Region\").get_group(\"MW\")[\"county_string\"]).tolist()\n",
    "SWlist = (cdf.groupby(\"Region\").get_group(\"SW\")[\"county_string\"]).tolist()\n",
    "SElist = (cdf.groupby(\"Region\").get_group(\"SE\")[\"county_string\"]).tolist()\n",
    "NElist = (cdf.groupby(\"Region\").get_group(\"NE\")[\"county_string\"]).tolist()\n",
    "\n",
    "sample_list = []\n",
    "sample_list.extend(random.sample(list(set(WClist) & set(fullcountylist)),2))\n",
    "sample_list.extend(random.sample(list(set(MWlist) & set(fullcountylist)),2))\n",
    "sample_list.extend(random.sample(list(set(SWlist) & set(fullcountylist)),2))\n",
    "sample_list.extend(random.sample(list(set(SElist) & set(fullcountylist)),2))\n",
    "sample_list.extend(random.sample(list(set(NElist) & set(fullcountylist)),2))\n",
    "sample_list"
   ]
  },
  {
   "cell_type": "code",
   "execution_count": 4,
   "metadata": {},
   "outputs": [
    {
     "data": {
      "text/html": [
       "<div>\n",
       "<style>\n",
       "    .dataframe thead tr:only-child th {\n",
       "        text-align: right;\n",
       "    }\n",
       "\n",
       "    .dataframe thead th {\n",
       "        text-align: left;\n",
       "    }\n",
       "\n",
       "    .dataframe tbody tr th {\n",
       "        vertical-align: top;\n",
       "    }\n",
       "</style>\n",
       "<table border=\"1\" class=\"dataframe\">\n",
       "  <thead>\n",
       "    <tr style=\"text-align: right;\">\n",
       "      <th></th>\n",
       "      <th>county_string</th>\n",
       "      <th>Region</th>\n",
       "    </tr>\n",
       "  </thead>\n",
       "  <tbody>\n",
       "    <tr>\n",
       "      <th>0</th>\n",
       "      <td>Autauga County, Alabama</td>\n",
       "      <td>SE</td>\n",
       "    </tr>\n",
       "    <tr>\n",
       "      <th>1</th>\n",
       "      <td>Baldwin County, Alabama</td>\n",
       "      <td>SE</td>\n",
       "    </tr>\n",
       "    <tr>\n",
       "      <th>2</th>\n",
       "      <td>Barbour County, Alabama</td>\n",
       "      <td>SE</td>\n",
       "    </tr>\n",
       "    <tr>\n",
       "      <th>3</th>\n",
       "      <td>Bibb County, Alabama</td>\n",
       "      <td>SE</td>\n",
       "    </tr>\n",
       "    <tr>\n",
       "      <th>4</th>\n",
       "      <td>Blount County, Alabama</td>\n",
       "      <td>SE</td>\n",
       "    </tr>\n",
       "  </tbody>\n",
       "</table>\n",
       "</div>"
      ],
      "text/plain": [
       "             county_string Region\n",
       "0  Autauga County, Alabama     SE\n",
       "1  Baldwin County, Alabama     SE\n",
       "2  Barbour County, Alabama     SE\n",
       "3     Bibb County, Alabama     SE\n",
       "4   Blount County, Alabama     SE"
      ]
     },
     "execution_count": 4,
     "metadata": {},
     "output_type": "execute_result"
    }
   ],
   "source": [
    "cdf.head()"
   ]
  },
  {
   "cell_type": "code",
   "execution_count": 5,
   "metadata": {},
   "outputs": [
    {
     "data": {
      "text/html": [
       "<div>\n",
       "<style>\n",
       "    .dataframe thead tr:only-child th {\n",
       "        text-align: right;\n",
       "    }\n",
       "\n",
       "    .dataframe thead th {\n",
       "        text-align: left;\n",
       "    }\n",
       "\n",
       "    .dataframe tbody tr th {\n",
       "        vertical-align: top;\n",
       "    }\n",
       "</style>\n",
       "<table border=\"1\" class=\"dataframe\">\n",
       "  <thead>\n",
       "    <tr style=\"text-align: right;\">\n",
       "      <th></th>\n",
       "      <th>region</th>\n",
       "      <th>county_string</th>\n",
       "      <th>rating</th>\n",
       "      <th>review_count</th>\n",
       "      <th>category</th>\n",
       "      <th>price</th>\n",
       "    </tr>\n",
       "  </thead>\n",
       "  <tbody>\n",
       "  </tbody>\n",
       "</table>\n",
       "</div>"
      ],
      "text/plain": [
       "Empty DataFrame\n",
       "Columns: [region, county_string, rating, review_count, category, price]\n",
       "Index: []"
      ]
     },
     "execution_count": 5,
     "metadata": {},
     "output_type": "execute_result"
    }
   ],
   "source": [
    "pldf = pd.DataFrame(columns=[\"region\",\"county_string\",\"rating\",\"review_count\",\"category\",\"price\"])\n",
    "pldf"
   ]
  },
  {
   "cell_type": "code",
   "execution_count": null,
   "metadata": {
    "collapsed": true
   },
   "outputs": [],
   "source": []
  },
  {
   "cell_type": "code",
   "execution_count": null,
   "metadata": {
    "collapsed": true
   },
   "outputs": [],
   "source": []
  },
  {
   "cell_type": "code",
   "execution_count": null,
   "metadata": {
    "collapsed": true
   },
   "outputs": [],
   "source": []
  },
  {
   "cell_type": "code",
   "execution_count": null,
   "metadata": {
    "collapsed": true
   },
   "outputs": [],
   "source": []
  },
  {
   "cell_type": "code",
   "execution_count": null,
   "metadata": {
    "collapsed": true
   },
   "outputs": [],
   "source": []
  },
  {
   "cell_type": "code",
   "execution_count": null,
   "metadata": {
    "collapsed": true
   },
   "outputs": [],
   "source": []
  },
  {
   "cell_type": "code",
   "execution_count": null,
   "metadata": {
    "collapsed": true
   },
   "outputs": [],
   "source": [
    "\n"
   ]
  },
  {
   "cell_type": "code",
   "execution_count": 6,
   "metadata": {},
   "outputs": [
    {
     "data": {
      "text/html": [
       "<div>\n",
       "<style>\n",
       "    .dataframe thead tr:only-child th {\n",
       "        text-align: right;\n",
       "    }\n",
       "\n",
       "    .dataframe thead th {\n",
       "        text-align: left;\n",
       "    }\n",
       "\n",
       "    .dataframe tbody tr th {\n",
       "        vertical-align: top;\n",
       "    }\n",
       "</style>\n",
       "<table border=\"1\" class=\"dataframe\">\n",
       "  <thead>\n",
       "    <tr style=\"text-align: right;\">\n",
       "      <th></th>\n",
       "      <th>name</th>\n",
       "      <th>zipcode</th>\n",
       "      <th>county_string</th>\n",
       "      <th>rating</th>\n",
       "      <th>review_count</th>\n",
       "      <th>category</th>\n",
       "      <th>price</th>\n",
       "    </tr>\n",
       "  </thead>\n",
       "  <tbody>\n",
       "  </tbody>\n",
       "</table>\n",
       "</div>"
      ],
      "text/plain": [
       "Empty DataFrame\n",
       "Columns: [name, zipcode, county_string, rating, review_count, category, price]\n",
       "Index: []"
      ]
     },
     "execution_count": 6,
     "metadata": {},
     "output_type": "execute_result"
    }
   ],
   "source": [
    "res_df = pd.DataFrame(columns=[\"name\",\"zipcode\",\"county_string\",\"rating\",\"review_count\",\"category\",\"price\"])\n",
    "res_df"
   ]
  },
  {
   "cell_type": "code",
   "execution_count": 7,
   "metadata": {},
   "outputs": [
    {
     "name": "stdout",
     "output_type": "stream",
     "text": [
      "End of list. Found 9 Mexican restaurants in Douglas County, Nevada\n",
      "End of list. Found 5 Mexican restaurants in Douglas County, Washington\n",
      "End of list. Found 7 Italian restaurants in Strafford County, New Hampshire\n",
      "End of list. Found 1 Italian restaurants in Strafford County, New Hampshire\n",
      "End of list. Found 0 Italian restaurants in Strafford County, New Hampshire\n",
      "End of list. Found 8 Mexican restaurants in Strafford County, New Hampshire\n",
      "End of list. Found 0 Mexican restaurants in Strafford County, New Hampshire\n",
      "End of list. Found 1 Mexican restaurants in Strafford County, New Hampshire\n",
      "End of list. Found 0 Mexican restaurants in Strafford County, New Hampshire\n",
      "End of list. Found 0 Mexican restaurants in Strafford County, New Hampshire\n",
      "End of list. Found 12 Chinese restaurants in Strafford County, New Hampshire\n",
      "End of list. Found 0 Chinese restaurants in Strafford County, New Hampshire\n",
      "End of list. Found 0 Chinese restaurants in Strafford County, New Hampshire\n",
      "End of list. Found 0 Chinese restaurants in Strafford County, New Hampshire\n",
      "End of list. Found 0 Chinese restaurants in Strafford County, New Hampshire\n",
      "End of list. Found 5 Italian restaurants in Delaware County, New York\n",
      "End of list. Found 2 Italian restaurants in Delaware County, New York\n",
      "End of list. Found 0 Italian restaurants in Delaware County, New York\n",
      "End of list. Found 5 Chinese restaurants in Delaware County, New York\n"
     ]
    }
   ],
   "source": [
    "r = 0\n",
    "for c in sample_list:\n",
    "    county_string = str(c)\n",
    "    for term in [\"Italian\",\"Mexican\",\"Chinese\",\"American\",\"Indian\"]:\n",
    "        #we are allowed 5000 queries per 24 hours. if we run out, we can create another. till then, use this\n",
    "        yelpkey=\"IXRN_1GI8f8J9Kj5O5GciqeyFSWR5RMh41_rADGy1KrtQ5ZABGGZEkWwot5mOka0NlzlNxXPmzYXLWk88oOV0N_YxD1MSW4kQRfJnFrwfHLtKrr2HcsjLo6uWBzAWnYx\"\n",
    "        try:\n",
    "            offset=0\n",
    "            for loopcount in range(5):\n",
    "                \n",
    "                response = requests.get(url=\"https://api.yelp.com/v3/businesses/search\", \n",
    "                       params= {\"location\": county_string,\"term\": term, \"limit\":\"50\", \"offset\": offset}, \n",
    "                       headers={'Authorization': 'bearer %s' % yelpkey})\n",
    "                responsejson = response.json()\n",
    "                offset += 50\n",
    "                try:\n",
    "                    count=0\n",
    "            \n",
    "                    for x in range(0,49):\n",
    "                        for y in range(0,len(responsejson[\"businesses\"][x][\"categories\"])):\n",
    "                            \n",
    "                            if ((str(responsejson[\"businesses\"][x][\"categories\"][y][\"title\"]).startswith(str(term))) and \n",
    "                                (responsejson[\"businesses\"][x][\"review_count\"] > 0)):\n",
    "                        \n",
    "                                zc = int(responsejson[\"businesses\"][x][\"location\"][\"zip_code\"])\n",
    "                                if (zipcodes.loc[zipcodes[\"zip_code\"]==zc][\"county_string\"].tolist()[0]== county_string):\n",
    "                            \n",
    "#                                     print(\"\\n\",responsejson[\"businesses\"][x][\"name\"],\n",
    "#                                           responsejson[\"businesses\"][x][\"location\"][\"zip_code\"],\n",
    "#                                           zipcodes.loc[zipcodes[\"zip_code\"]==zc][\"county_string\"].tolist()[0],\n",
    "#                                           responsejson[\"businesses\"][x][\"rating\"],\n",
    "#                                           responsejson[\"businesses\"][x][\"review_count\"],\n",
    "#                                           responsejson[\"businesses\"][x][\"categories\"][y][\"title\"])\n",
    "                            \n",
    "                                    res_df.loc[r]=[responsejson[\"businesses\"][x][\"name\"],\n",
    "                                          str(zc),\n",
    "                                          county_string,\n",
    "                                          responsejson[\"businesses\"][x][\"rating\"],\n",
    "                                          responsejson[\"businesses\"][x][\"review_count\"],\n",
    "                                          term,\n",
    "                                          responsejson[\"businesses\"][x][\"price\"]]\n",
    "                                          #responsejson[\"businesses\"][x][\"price\"]]\n",
    "                                    count += 1\n",
    "                                    r += 1\n",
    "                except:\n",
    "                    break\n",
    "    \n",
    "                print(\"End of list. Found\", count, term, \"restaurants in\", county_string)\n",
    "        except:\n",
    "            break\n"
   ]
  },
  {
   "cell_type": "code",
   "execution_count": 8,
   "metadata": {},
   "outputs": [
    {
     "data": {
      "text/html": [
       "<div>\n",
       "<style>\n",
       "    .dataframe thead tr:only-child th {\n",
       "        text-align: right;\n",
       "    }\n",
       "\n",
       "    .dataframe thead th {\n",
       "        text-align: left;\n",
       "    }\n",
       "\n",
       "    .dataframe tbody tr th {\n",
       "        vertical-align: top;\n",
       "    }\n",
       "</style>\n",
       "<table border=\"1\" class=\"dataframe\">\n",
       "  <thead>\n",
       "    <tr style=\"text-align: right;\">\n",
       "      <th></th>\n",
       "      <th>name</th>\n",
       "      <th>zipcode</th>\n",
       "      <th>county_string</th>\n",
       "      <th>rating</th>\n",
       "      <th>review_count</th>\n",
       "      <th>category</th>\n",
       "      <th>price</th>\n",
       "    </tr>\n",
       "  </thead>\n",
       "  <tbody>\n",
       "    <tr>\n",
       "      <th>0</th>\n",
       "      <td>La Hacienda del Sazon</td>\n",
       "      <td>89423</td>\n",
       "      <td>Douglas County, Nevada</td>\n",
       "      <td>4.0</td>\n",
       "      <td>38</td>\n",
       "      <td>Mexican</td>\n",
       "      <td>2</td>\n",
       "    </tr>\n",
       "    <tr>\n",
       "      <th>1</th>\n",
       "      <td>El Aguila Real</td>\n",
       "      <td>89410</td>\n",
       "      <td>Douglas County, Nevada</td>\n",
       "      <td>3.5</td>\n",
       "      <td>79</td>\n",
       "      <td>Mexican</td>\n",
       "      <td>2</td>\n",
       "    </tr>\n",
       "    <tr>\n",
       "      <th>2</th>\n",
       "      <td>JJ'S Mexican Food</td>\n",
       "      <td>89410</td>\n",
       "      <td>Douglas County, Nevada</td>\n",
       "      <td>4.0</td>\n",
       "      <td>60</td>\n",
       "      <td>Mexican</td>\n",
       "      <td>1</td>\n",
       "    </tr>\n",
       "    <tr>\n",
       "      <th>3</th>\n",
       "      <td>Francisco's Mexican</td>\n",
       "      <td>89423</td>\n",
       "      <td>Douglas County, Nevada</td>\n",
       "      <td>3.5</td>\n",
       "      <td>113</td>\n",
       "      <td>Mexican</td>\n",
       "      <td>2</td>\n",
       "    </tr>\n",
       "    <tr>\n",
       "      <th>4</th>\n",
       "      <td>Sombreros</td>\n",
       "      <td>89449</td>\n",
       "      <td>Douglas County, Nevada</td>\n",
       "      <td>4.0</td>\n",
       "      <td>61</td>\n",
       "      <td>Mexican</td>\n",
       "      <td>1</td>\n",
       "    </tr>\n",
       "  </tbody>\n",
       "</table>\n",
       "</div>"
      ],
      "text/plain": [
       "                    name zipcode           county_string  rating review_count  \\\n",
       "0  La Hacienda del Sazon   89423  Douglas County, Nevada     4.0           38   \n",
       "1         El Aguila Real   89410  Douglas County, Nevada     3.5           79   \n",
       "2      JJ'S Mexican Food   89410  Douglas County, Nevada     4.0           60   \n",
       "3    Francisco's Mexican   89423  Douglas County, Nevada     3.5          113   \n",
       "4              Sombreros   89449  Douglas County, Nevada     4.0           61   \n",
       "\n",
       "  category  price  \n",
       "0  Mexican      2  \n",
       "1  Mexican      2  \n",
       "2  Mexican      1  \n",
       "3  Mexican      2  \n",
       "4  Mexican      1  "
      ]
     },
     "execution_count": 8,
     "metadata": {},
     "output_type": "execute_result"
    }
   ],
   "source": [
    "\n",
    "res_df.to_csv(\"output1804042050.csv\")\n",
    "res_df.price.replace([\"$\",\"$$\",\"$$$\",\"$$$$\"],[1,2,3,4],inplace=True)\n",
    "res_df.head()\n",
    "\n"
   ]
  },
  {
   "cell_type": "code",
   "execution_count": 15,
   "metadata": {},
   "outputs": [
    {
     "data": {
      "text/plain": [
       "<matplotlib.figure.Figure at 0x2025ca7c320>"
      ]
     },
     "metadata": {},
     "output_type": "display_data"
    },
    {
     "data": {
      "image/png": "[encoded data removed]",
      "text/plain": [
       "<matplotlib.figure.Figure at 0x2025ca60d68>"
      ]
     },
     "metadata": {},
     "output_type": "display_data"
    }
   ],
   "source": [
    "res_df.groupby(\"category\").mean().plot(kind='bar', figsize=(16,9))\n",
    "plt.xlabel(\"Ratings and Price\")\n",
    "plt.ylabel('Category')\n",
    "plt.title('Comparing price and Ratings per Food type')\n",
    "\n",
    "\n",
    "plt.show()\n",
    "plt.savefig(\"Comparing_price_and_ratingcount.png\")\n"
   ]
  },
  {
   "cell_type": "code",
   "execution_count": 9,
   "metadata": {},
   "outputs": [
    {
     "ename": "KeyError",
     "evalue": "('Region', 'Ratings', 'Review_Count')",
     "output_type": "error",
     "traceback": [
      "\u001b[1;31m---------------------------------------------------------------------------\u001b[0m",
      "\u001b[1;31mKeyError\u001b[0m                                  Traceback (most recent call last)",
      "\u001b[1;32m~\\Anaconda3\\lib\\site-packages\\pandas\\core\\indexes\\base.py\u001b[0m in \u001b[0;36mget_loc\u001b[1;34m(self, key, method, tolerance)\u001b[0m\n\u001b[0;32m   2441\u001b[0m             \u001b[1;32mtry\u001b[0m\u001b[1;33m:\u001b[0m\u001b[1;33m\u001b[0m\u001b[0m\n\u001b[1;32m-> 2442\u001b[1;33m                 \u001b[1;32mreturn\u001b[0m \u001b[0mself\u001b[0m\u001b[1;33m.\u001b[0m\u001b[0m_engine\u001b[0m\u001b[1;33m.\u001b[0m\u001b[0mget_loc\u001b[0m\u001b[1;33m(\u001b[0m\u001b[0mkey\u001b[0m\u001b[1;33m)\u001b[0m\u001b[1;33m\u001b[0m\u001b[0m\n\u001b[0m\u001b[0;32m   2443\u001b[0m             \u001b[1;32mexcept\u001b[0m \u001b[0mKeyError\u001b[0m\u001b[1;33m:\u001b[0m\u001b[1;33m\u001b[0m\u001b[0m\n",
      "\u001b[1;32mpandas\\_libs\\index.pyx\u001b[0m in \u001b[0;36mpandas._libs.index.IndexEngine.get_loc\u001b[1;34m()\u001b[0m\n",
      "\u001b[1;32mpandas\\_libs\\index.pyx\u001b[0m in \u001b[0;36mpandas._libs.index.IndexEngine.get_loc\u001b[1;34m()\u001b[0m\n",
      "\u001b[1;32mpandas\\_libs\\hashtable_class_helper.pxi\u001b[0m in \u001b[0;36mpandas._libs.hashtable.PyObjectHashTable.get_item\u001b[1;34m()\u001b[0m\n",
      "\u001b[1;32mpandas\\_libs\\hashtable_class_helper.pxi\u001b[0m in \u001b[0;36mpandas._libs.hashtable.PyObjectHashTable.get_item\u001b[1;34m()\u001b[0m\n",
      "\u001b[1;31mKeyError\u001b[0m: ('Region', 'Ratings', 'Review_Count')",
      "\nDuring handling of the above exception, another exception occurred:\n",
      "\u001b[1;31mKeyError\u001b[0m                                  Traceback (most recent call last)",
      "\u001b[1;32m<ipython-input-9-160e51ae0948>\u001b[0m in \u001b[0;36m<module>\u001b[1;34m()\u001b[0m\n\u001b[1;32m----> 1\u001b[1;33m \u001b[0mNewres\u001b[0m\u001b[1;33m=\u001b[0m\u001b[0mpd\u001b[0m\u001b[1;33m.\u001b[0m\u001b[0mDataFrame\u001b[0m\u001b[1;33m(\u001b[0m\u001b[0mres_df\u001b[0m\u001b[1;33m[\u001b[0m\u001b[1;34m\"Region\"\u001b[0m\u001b[1;33m,\u001b[0m\u001b[1;34m\"Ratings\"\u001b[0m\u001b[1;33m,\u001b[0m\u001b[1;34m\"Review_Count\"\u001b[0m\u001b[1;33m]\u001b[0m\u001b[1;33m)\u001b[0m\u001b[1;33m\u001b[0m\u001b[0m\n\u001b[0m\u001b[0;32m      2\u001b[0m \u001b[0mNewres\u001b[0m\u001b[1;33m.\u001b[0m\u001b[0mhead\u001b[0m\u001b[1;33m(\u001b[0m\u001b[1;33m)\u001b[0m\u001b[1;33m\u001b[0m\u001b[0m\n",
      "\u001b[1;32m~\\Anaconda3\\lib\\site-packages\\pandas\\core\\frame.py\u001b[0m in \u001b[0;36m__getitem__\u001b[1;34m(self, key)\u001b[0m\n\u001b[0;32m   1962\u001b[0m             \u001b[1;32mreturn\u001b[0m \u001b[0mself\u001b[0m\u001b[1;33m.\u001b[0m\u001b[0m_getitem_multilevel\u001b[0m\u001b[1;33m(\u001b[0m\u001b[0mkey\u001b[0m\u001b[1;33m)\u001b[0m\u001b[1;33m\u001b[0m\u001b[0m\n\u001b[0;32m   1963\u001b[0m         \u001b[1;32melse\u001b[0m\u001b[1;33m:\u001b[0m\u001b[1;33m\u001b[0m\u001b[0m\n\u001b[1;32m-> 1964\u001b[1;33m             \u001b[1;32mreturn\u001b[0m \u001b[0mself\u001b[0m\u001b[1;33m.\u001b[0m\u001b[0m_getitem_column\u001b[0m\u001b[1;33m(\u001b[0m\u001b[0mkey\u001b[0m\u001b[1;33m)\u001b[0m\u001b[1;33m\u001b[0m\u001b[0m\n\u001b[0m\u001b[0;32m   1965\u001b[0m \u001b[1;33m\u001b[0m\u001b[0m\n\u001b[0;32m   1966\u001b[0m     \u001b[1;32mdef\u001b[0m \u001b[0m_getitem_column\u001b[0m\u001b[1;33m(\u001b[0m\u001b[0mself\u001b[0m\u001b[1;33m,\u001b[0m \u001b[0mkey\u001b[0m\u001b[1;33m)\u001b[0m\u001b[1;33m:\u001b[0m\u001b[1;33m\u001b[0m\u001b[0m\n",
      "\u001b[1;32m~\\Anaconda3\\lib\\site-packages\\pandas\\core\\frame.py\u001b[0m in \u001b[0;36m_getitem_column\u001b[1;34m(self, key)\u001b[0m\n\u001b[0;32m   1969\u001b[0m         \u001b[1;31m# get column\u001b[0m\u001b[1;33m\u001b[0m\u001b[1;33m\u001b[0m\u001b[0m\n\u001b[0;32m   1970\u001b[0m         \u001b[1;32mif\u001b[0m \u001b[0mself\u001b[0m\u001b[1;33m.\u001b[0m\u001b[0mcolumns\u001b[0m\u001b[1;33m.\u001b[0m\u001b[0mis_unique\u001b[0m\u001b[1;33m:\u001b[0m\u001b[1;33m\u001b[0m\u001b[0m\n\u001b[1;32m-> 1971\u001b[1;33m             \u001b[1;32mreturn\u001b[0m \u001b[0mself\u001b[0m\u001b[1;33m.\u001b[0m\u001b[0m_get_item_cache\u001b[0m\u001b[1;33m(\u001b[0m\u001b[0mkey\u001b[0m\u001b[1;33m)\u001b[0m\u001b[1;33m\u001b[0m\u001b[0m\n\u001b[0m\u001b[0;32m   1972\u001b[0m \u001b[1;33m\u001b[0m\u001b[0m\n\u001b[0;32m   1973\u001b[0m         \u001b[1;31m# duplicate columns & possible reduce dimensionality\u001b[0m\u001b[1;33m\u001b[0m\u001b[1;33m\u001b[0m\u001b[0m\n",
      "\u001b[1;32m~\\Anaconda3\\lib\\site-packages\\pandas\\core\\generic.py\u001b[0m in \u001b[0;36m_get_item_cache\u001b[1;34m(self, item)\u001b[0m\n\u001b[0;32m   1643\u001b[0m         \u001b[0mres\u001b[0m \u001b[1;33m=\u001b[0m \u001b[0mcache\u001b[0m\u001b[1;33m.\u001b[0m\u001b[0mget\u001b[0m\u001b[1;33m(\u001b[0m\u001b[0mitem\u001b[0m\u001b[1;33m)\u001b[0m\u001b[1;33m\u001b[0m\u001b[0m\n\u001b[0;32m   1644\u001b[0m         \u001b[1;32mif\u001b[0m \u001b[0mres\u001b[0m \u001b[1;32mis\u001b[0m \u001b[1;32mNone\u001b[0m\u001b[1;33m:\u001b[0m\u001b[1;33m\u001b[0m\u001b[0m\n\u001b[1;32m-> 1645\u001b[1;33m             \u001b[0mvalues\u001b[0m \u001b[1;33m=\u001b[0m \u001b[0mself\u001b[0m\u001b[1;33m.\u001b[0m\u001b[0m_data\u001b[0m\u001b[1;33m.\u001b[0m\u001b[0mget\u001b[0m\u001b[1;33m(\u001b[0m\u001b[0mitem\u001b[0m\u001b[1;33m)\u001b[0m\u001b[1;33m\u001b[0m\u001b[0m\n\u001b[0m\u001b[0;32m   1646\u001b[0m             \u001b[0mres\u001b[0m \u001b[1;33m=\u001b[0m \u001b[0mself\u001b[0m\u001b[1;33m.\u001b[0m\u001b[0m_box_item_values\u001b[0m\u001b[1;33m(\u001b[0m\u001b[0mitem\u001b[0m\u001b[1;33m,\u001b[0m \u001b[0mvalues\u001b[0m\u001b[1;33m)\u001b[0m\u001b[1;33m\u001b[0m\u001b[0m\n\u001b[0;32m   1647\u001b[0m             \u001b[0mcache\u001b[0m\u001b[1;33m[\u001b[0m\u001b[0mitem\u001b[0m\u001b[1;33m]\u001b[0m \u001b[1;33m=\u001b[0m \u001b[0mres\u001b[0m\u001b[1;33m\u001b[0m\u001b[0m\n",
      "\u001b[1;32m~\\Anaconda3\\lib\\site-packages\\pandas\\core\\internals.py\u001b[0m in \u001b[0;36mget\u001b[1;34m(self, item, fastpath)\u001b[0m\n\u001b[0;32m   3588\u001b[0m \u001b[1;33m\u001b[0m\u001b[0m\n\u001b[0;32m   3589\u001b[0m             \u001b[1;32mif\u001b[0m \u001b[1;32mnot\u001b[0m \u001b[0misnull\u001b[0m\u001b[1;33m(\u001b[0m\u001b[0mitem\u001b[0m\u001b[1;33m)\u001b[0m\u001b[1;33m:\u001b[0m\u001b[1;33m\u001b[0m\u001b[0m\n\u001b[1;32m-> 3590\u001b[1;33m                 \u001b[0mloc\u001b[0m \u001b[1;33m=\u001b[0m \u001b[0mself\u001b[0m\u001b[1;33m.\u001b[0m\u001b[0mitems\u001b[0m\u001b[1;33m.\u001b[0m\u001b[0mget_loc\u001b[0m\u001b[1;33m(\u001b[0m\u001b[0mitem\u001b[0m\u001b[1;33m)\u001b[0m\u001b[1;33m\u001b[0m\u001b[0m\n\u001b[0m\u001b[0;32m   3591\u001b[0m             \u001b[1;32melse\u001b[0m\u001b[1;33m:\u001b[0m\u001b[1;33m\u001b[0m\u001b[0m\n\u001b[0;32m   3592\u001b[0m                 \u001b[0mindexer\u001b[0m \u001b[1;33m=\u001b[0m \u001b[0mnp\u001b[0m\u001b[1;33m.\u001b[0m\u001b[0marange\u001b[0m\u001b[1;33m(\u001b[0m\u001b[0mlen\u001b[0m\u001b[1;33m(\u001b[0m\u001b[0mself\u001b[0m\u001b[1;33m.\u001b[0m\u001b[0mitems\u001b[0m\u001b[1;33m)\u001b[0m\u001b[1;33m)\u001b[0m\u001b[1;33m[\u001b[0m\u001b[0misnull\u001b[0m\u001b[1;33m(\u001b[0m\u001b[0mself\u001b[0m\u001b[1;33m.\u001b[0m\u001b[0mitems\u001b[0m\u001b[1;33m)\u001b[0m\u001b[1;33m]\u001b[0m\u001b[1;33m\u001b[0m\u001b[0m\n",
      "\u001b[1;32m~\\Anaconda3\\lib\\site-packages\\pandas\\core\\indexes\\base.py\u001b[0m in \u001b[0;36mget_loc\u001b[1;34m(self, key, method, tolerance)\u001b[0m\n\u001b[0;32m   2442\u001b[0m                 \u001b[1;32mreturn\u001b[0m \u001b[0mself\u001b[0m\u001b[1;33m.\u001b[0m\u001b[0m_engine\u001b[0m\u001b[1;33m.\u001b[0m\u001b[0mget_loc\u001b[0m\u001b[1;33m(\u001b[0m\u001b[0mkey\u001b[0m\u001b[1;33m)\u001b[0m\u001b[1;33m\u001b[0m\u001b[0m\n\u001b[0;32m   2443\u001b[0m             \u001b[1;32mexcept\u001b[0m \u001b[0mKeyError\u001b[0m\u001b[1;33m:\u001b[0m\u001b[1;33m\u001b[0m\u001b[0m\n\u001b[1;32m-> 2444\u001b[1;33m                 \u001b[1;32mreturn\u001b[0m \u001b[0mself\u001b[0m\u001b[1;33m.\u001b[0m\u001b[0m_engine\u001b[0m\u001b[1;33m.\u001b[0m\u001b[0mget_loc\u001b[0m\u001b[1;33m(\u001b[0m\u001b[0mself\u001b[0m\u001b[1;33m.\u001b[0m\u001b[0m_maybe_cast_indexer\u001b[0m\u001b[1;33m(\u001b[0m\u001b[0mkey\u001b[0m\u001b[1;33m)\u001b[0m\u001b[1;33m)\u001b[0m\u001b[1;33m\u001b[0m\u001b[0m\n\u001b[0m\u001b[0;32m   2445\u001b[0m \u001b[1;33m\u001b[0m\u001b[0m\n\u001b[0;32m   2446\u001b[0m         \u001b[0mindexer\u001b[0m \u001b[1;33m=\u001b[0m \u001b[0mself\u001b[0m\u001b[1;33m.\u001b[0m\u001b[0mget_indexer\u001b[0m\u001b[1;33m(\u001b[0m\u001b[1;33m[\u001b[0m\u001b[0mkey\u001b[0m\u001b[1;33m]\u001b[0m\u001b[1;33m,\u001b[0m \u001b[0mmethod\u001b[0m\u001b[1;33m=\u001b[0m\u001b[0mmethod\u001b[0m\u001b[1;33m,\u001b[0m \u001b[0mtolerance\u001b[0m\u001b[1;33m=\u001b[0m\u001b[0mtolerance\u001b[0m\u001b[1;33m)\u001b[0m\u001b[1;33m\u001b[0m\u001b[0m\n",
      "\u001b[1;32mpandas\\_libs\\index.pyx\u001b[0m in \u001b[0;36mpandas._libs.index.IndexEngine.get_loc\u001b[1;34m()\u001b[0m\n",
      "\u001b[1;32mpandas\\_libs\\index.pyx\u001b[0m in \u001b[0;36mpandas._libs.index.IndexEngine.get_loc\u001b[1;34m()\u001b[0m\n",
      "\u001b[1;32mpandas\\_libs\\hashtable_class_helper.pxi\u001b[0m in \u001b[0;36mpandas._libs.hashtable.PyObjectHashTable.get_item\u001b[1;34m()\u001b[0m\n",
      "\u001b[1;32mpandas\\_libs\\hashtable_class_helper.pxi\u001b[0m in \u001b[0;36mpandas._libs.hashtable.PyObjectHashTable.get_item\u001b[1;34m()\u001b[0m\n",
      "\u001b[1;31mKeyError\u001b[0m: ('Region', 'Ratings', 'Review_Count')"
     ]
    }
   ],
   "source": [
    "Newres=pd.DataFrame(res_df[\"Region\",\"Ratings\",\"Review_Count\"])\n",
    "Newres.head()"
   ]
  },
  {
   "cell_type": "code",
   "execution_count": null,
   "metadata": {},
   "outputs": [],
   "source": [
    "res_df.groupby(\"Region\").mean().plot(kind='bar')\n",
    "\n",
    "\n",
    "plt.show()\n"
   ]
  },
  {
   "cell_type": "code",
   "execution_count": null,
   "metadata": {},
   "outputs": [],
   "source": [
    "Ratings, = plt.plot(rating, average_unemployment, color=\"red\", label=\"World Average\" )"
   ]
  },
  {
   "cell_type": "code",
   "execution_count": null,
   "metadata": {
    "scrolled": true
   },
   "outputs": [],
   "source": [
    "res_df = pd.merge(res_df,counties, how='left', on=\"county_string\",)\n",
    "#list(res_df)\n",
    "res_df.head()\n"
   ]
  },
  {
   "cell_type": "code",
   "execution_count": null,
   "metadata": {},
   "outputs": [],
   "source": [
    "res_df.groupby(\"category\").mean().plot(kind='bar')\n",
    "\n",
    "\n",
    "plt.show()\n",
    "res_df.head()"
   ]
  },
  {
   "cell_type": "code",
   "execution_count": null,
   "metadata": {},
   "outputs": [],
   "source": [
    "res_agg = res_df.groupby([\"category\"])\n",
    "res_agg.head()\n",
    "#plt.scatter(res_df, y = \"review_count\", x = \"category\")"
   ]
  },
  {
   "cell_type": "code",
   "execution_count": null,
   "metadata": {},
   "outputs": [],
   "source": [
    "import seaborn as sns\n",
    "\n",
    "print()\n",
    "\n",
    "# create a scatter plot amplifying the marker to show better\n",
    "plt.scatter(x = res_df[\"review_count\"], y = res_df[\"Income_x\"] , s= review_count*5 , c='#F08080', alpha=.7, edgecolor=\"black\", marker=\"o\", label=\"Urban\")\n",
    "\n",
    "plt.title(\"rating vs reviews\")\n",
    "# plt.xlabel(\"review_count\")\n",
    "plt.ylabel(\" rating\")\n",
    "plt.text(10, 45,\"Size of Bubble denotes \", fontsize=10)\n",
    "plt.text(10, 43,\" # drivers per city\", fontsize=10)\n",
    "plt.legend()\n",
    "sns.set\n",
    "plt.show()"
   ]
  },
  {
   "cell_type": "code",
   "execution_count": null,
   "metadata": {
    "collapsed": true
   },
   "outputs": [],
   "source": []
  },
  {
   "cell_type": "code",
   "execution_count": 16,
   "metadata": {},
   "outputs": [
    {
     "ename": "NameError",
     "evalue": "name 'merged' is not defined",
     "output_type": "error",
     "traceback": [
      "\u001b[1;31m---------------------------------------------------------------------------\u001b[0m",
      "\u001b[1;31mNameError\u001b[0m                                 Traceback (most recent call last)",
      "\u001b[1;32m<ipython-input-16-6f8e509f40cf>\u001b[0m in \u001b[0;36m<module>\u001b[1;34m()\u001b[0m\n\u001b[0;32m      1\u001b[0m \u001b[1;33m\u001b[0m\u001b[0m\n\u001b[0;32m      2\u001b[0m \u001b[1;31m# creating 3 data frames for plottting purpose\u001b[0m\u001b[1;33m\u001b[0m\u001b[1;33m\u001b[0m\u001b[0m\n\u001b[1;32m----> 3\u001b[1;33m \u001b[0mwcdf\u001b[0m \u001b[1;33m=\u001b[0m \u001b[0mmerged\u001b[0m\u001b[1;33m[\u001b[0m\u001b[0mmerged\u001b[0m\u001b[1;33m[\u001b[0m\u001b[1;34m\"Region\"\u001b[0m\u001b[1;33m]\u001b[0m\u001b[1;33m==\u001b[0m\u001b[1;34m\"WC\"\u001b[0m\u001b[1;33m]\u001b[0m\u001b[1;33m\u001b[0m\u001b[0m\n\u001b[0m\u001b[0;32m      4\u001b[0m \u001b[0mmwdf\u001b[0m \u001b[1;33m=\u001b[0m \u001b[0mmerged\u001b[0m\u001b[1;33m[\u001b[0m\u001b[0mmerged\u001b[0m\u001b[1;33m[\u001b[0m\u001b[1;34m\"Region\"\u001b[0m\u001b[1;33m]\u001b[0m\u001b[1;33m==\u001b[0m\u001b[1;34m\"MW\"\u001b[0m\u001b[1;33m]\u001b[0m\u001b[1;33m\u001b[0m\u001b[0m\n\u001b[0;32m      5\u001b[0m \u001b[0mswdf\u001b[0m \u001b[1;33m=\u001b[0m \u001b[0mmerged\u001b[0m\u001b[1;33m[\u001b[0m\u001b[0mmerged\u001b[0m\u001b[1;33m[\u001b[0m\u001b[1;34m\"Region\"\u001b[0m\u001b[1;33m]\u001b[0m\u001b[1;33m==\u001b[0m\u001b[1;34m\"SW\"\u001b[0m\u001b[1;33m]\u001b[0m\u001b[1;33m\u001b[0m\u001b[0m\n",
      "\u001b[1;31mNameError\u001b[0m: name 'merged' is not defined"
     ]
    }
   ],
   "source": [
    "\n",
    "# creating 3 data frames for plottting purpose\n",
    "wcdf = merged[merged[\"Region\"]==\"WC\"]\n",
    "mwdf = merged[merged[\"Region\"]==\"MW\"]\n",
    "swdf = merged[merged[\"Region\"]==\"SW\"]\n",
    "sedf = merged[merged[\"Region\"]==\"SE\"]\n",
    "nedf = merged[merged[\"Region\"]==\"NE\"]\n",
    "#average fare per city\n",
    "wcdfgrp = wcdf.groupby(['Region']).mean()['rating']\n",
    "mwdfgrp = mwdf.groupby(['Region']).mean()['rating']\n",
    "swdfgrp = swdf.groupby(['Region']).mean()['rating']\n",
    "sedfgrp = sedf.groupby(['Region']).mean()['rating']\n",
    "nedfgrp = nedf.groupby(['Region']).mean()['rating']\n",
    "print(swdfgrp)\n"
   ]
  },
  {
   "cell_type": "code",
   "execution_count": null,
   "metadata": {},
   "outputs": [],
   "source": [
    "# create a scatter plot amplifying the marker to show better\n",
    "plt.scatter(wcdf, wcdfgrp  , s= review_count*5 , c='#F08080', alpha=.7, edgecolor=\"black\", marker=\"o\", label=\"Urban\")\n",
    "# plt.scatter(mwdf, SUbrbanAvfare , s= totdriversS*5 , c='#87CEFA', alpha=.7, edgecolor=\"black\", marker=\"o\", label=\"Suburban\")\n",
    "# plt.scatter(totridesR, RurrbanAvfare , s= totdriversR*5 , c='#FFD700', alpha=.7, edgecolor=\"black\", marker=\"o\", label=\"Rural\")\n",
    "# plt.title(\"Pyber Ride sharing Data\")\n",
    "# plt.xlabel(\"Total number of rides (per city)\")\n",
    "# plt.ylabel(\"Average Fare($)\")\n",
    "# plt.text(10, 45,\"Size of Bubble denotes \", fontsize=10)\n",
    "# plt.text(10, 43,\" # drivers per city\", fontsize=10)\n",
    "plt.legend()\n",
    "sns.set\n",
    "plt.show()"
   ]
  },
  {
   "cell_type": "code",
   "execution_count": null,
   "metadata": {},
   "outputs": [],
   "source": [
    "#itadf = res_df.groupby(res_df[\"category\"]).get_group(\"Italian\")\n",
    "mexdf = res_df.groupby(res_df[\"category\"]).get_group(\"Mexican\")\n",
    "chndf = res_df.groupby(res_df[\"category\"]).get_group(\"Chinese\")\n",
    "usadf = res_df.groupby(res_df[\"category\"]).get_group(\"American\")\n",
    "inddf = res_df.groupby(res_df[\"category\"]).get_group(\"Indian\")\n",
    "res_df\n",
    "# CHA = res_df.groupby(res_df[\"county_string\"]).get_group(\"Mecklenburg County, North Carolina\")\n",
    "# CHAbreakdown = pd.DataFrame(CHA[\"category\"].value_counts()).T.reset_index()\n",
    "# CHAbreakdown[\"county_string\"]=\"Mecklenburg County, North Carolina\"\n",
    "# CHA_price_avg = CHA.groupby(res_df[\"price\"]).mean()\n",
    "# CHA_price_count = CHA[\"price\"].value_counts()\n",
    "\n",
    "# RAL = res_df.groupby(res_df[\"county_string\"]).get_group(\"Wake County, North Carolina\")\n",
    "# RALbreakdown = pd.DataFrame(RAL[\"category\"].value_counts()).T.reset_index()\n",
    "# RALbreakdown[\"county_string\"]=\"Wake County, North Carolina\"\n",
    "# RAL_price_avg = RAL.groupby(res_df[\"price\"]).mean()\n",
    "# RAL_price_count = RAL[\"price\"].value_counts()\n",
    "\n",
    "# ATL = res_df.groupby(res_df[\"county_string\"]).get_group(\"Fulton County, Georgia\")\n",
    "# ATLbreakdown = pd.DataFrame(ATL[\"category\"].value_counts()).T.reset_index()\n",
    "# ATLbreakdown[\"county_string\"]=\"Fulton County, Georgia\"\n",
    "# ATL_price_avg = ATL.groupby(res_df[\"price\"]).mean()\n",
    "# ATL_price_count = ATL[\"price\"].value_counts()\n",
    "\n",
    "# MEM = res_df.groupby(res_df[\"county_string\"]).get_group(\"Shelby County, Tennessee\")\n",
    "# MEMbreakdown = pd.DataFrame(MEM[\"category\"].value_counts()).T.reset_index()\n",
    "# MEMbreakdown[\"county_string\"]=\"Shelby County, Tennessee\"\n",
    "# MEM_price_avg = MEM.groupby(res_df[\"price\"]).mean()\n",
    "# MEM_price_count = MEM[\"price\"].value_counts()\n",
    "\n",
    "\n",
    "# ORL = res_df.groupby(res_df[\"county_string\"]).get_group(\"Orange County, Florida\")\n",
    "# ORLbreakdown = pd.DataFrame(ORL[\"category\"].value_counts()).T.reset_index()\n",
    "# ORLbreakdown[\"county_string\"]=\"Orange County, Florida\"\n",
    "# ORL_price_avg = ORL.groupby(res_df[\"price\"]).mean()\n",
    "# ORL_price_count = ORL[\"price\"].value_counts()\n",
    "\n",
    "# MIL = res_df.groupby(res_df[\"county_string\"]).get_group(\"Milwaukee County, Wisconsin\")\n",
    "# MILbreakdown = pd.DataFrame(MIL[\"category\"].value_counts()).T.reset_index()\n",
    "# MILbreakdown[\"county_string\"]=\"Milwaukee County, Wisconsin\"\n",
    "# MIL_price_avg = MIL.groupby(res_df[\"price\"]).mean()\n",
    "# MIL_price_count = MIL[\"price\"].value_counts()\n",
    "\n",
    "# SFC = res_df.groupby(res_df[\"county_string\"]).get_group(\"San Francisco County, California\")\n",
    "# SFCbreakdown = pd.DataFrame(SFC[\"category\"].value_counts()).T.reset_index()\n",
    "# SFCbreakdown[\"county_string\"]=\"San Francisco County, California\"\n",
    "# SFC_price_avg = SFC.groupby(res_df[\"price\"]).mean()\n",
    "# SFC_price_count = SFC[\"price\"].value_counts()\n",
    "\n",
    "# AUS = res_df.groupby(res_df[\"county_string\"]).get_group(\"Travis County, Texas\")\n",
    "# AUSbreakdown = pd.DataFrame(AUS[\"category\"].value_counts()).T.reset_index()\n",
    "# AUSbreakdown[\"county_string\"]=\"Travis County, Texas\"\n",
    "# AUS_price_avg = AUS.groupby(res_df[\"price\"]).mean()\n",
    "# AUS_price_count = AUS[\"price\"].value_counts()\n",
    "\n",
    "# PIT = res_df.groupby(res_df[\"county_string\"]).get_group(\"Allegheny County, Pennsylvania\")\n",
    "# PITbreakdown = pd.DataFrame(PIT[\"category\"].value_counts()).T.reset_index()\n",
    "# PITbreakdown[\"county_string\"]=\"Allegheny County, Pennsylvania\"\n",
    "# PIT_price_avg = PIT.groupby(res_df[\"price\"]).mean()\n",
    "# PIT_price_count = PIT[\"price\"].value_counts()\n"
   ]
  },
  {
   "cell_type": "code",
   "execution_count": null,
   "metadata": {},
   "outputs": [],
   "source": [
    "res_df.groupby(\"Region\").mean().plot(kind='bar')\n",
    "\n",
    "\n",
    "plt.show()\n",
    "res_df.head()"
   ]
  },
  {
   "cell_type": "code",
   "execution_count": null,
   "metadata": {},
   "outputs": [],
   "source": [
    "plt.scatter(res_df.col1, res_df.col2, s=res_df.col3)\n",
    "# OR (with pandas 0.13 and up)\n",
    "df.plot(kind='scatter', x='col1', y='col2', s=df.col3)"
   ]
  },
  {
   "cell_type": "code",
   "execution_count": null,
   "metadata": {
    "collapsed": true
   },
   "outputs": [],
   "source": []
  },
  {
   "cell_type": "code",
   "execution_count": null,
   "metadata": {
    "collapsed": true
   },
   "outputs": [],
   "source": []
  },
  {
   "cell_type": "code",
   "execution_count": null,
   "metadata": {
    "collapsed": true
   },
   "outputs": [],
   "source": [
    "# Plot Time Between Tweets\n",
    "plt.plot(range(len(time_in_between)), time_in_between, marker=\"o\", \n",
    "               linewidth=0.25, alpha=0.8, color=\"b\")\n",
    "plt.xlim([0, len(time_in_between)])\n",
    "plt.ylabel(\"Hours Apart\")\n",
    "plt.xlabel(\"Tweets Ago\")\n",
    "plt.title(\"Tweet Velocity: %s\" % target_user)\n",
    "plt.show()"
   ]
  },
  {
   "cell_type": "code",
   "execution_count": null,
   "metadata": {
    "collapsed": true
   },
   "outputs": [],
   "source": [
    "TOTAL_price_avg = res_df.groupby([\"price\"]).mean()\n",
    "rescount = res_df.groupby([\"county_string\"]).count()[\"name\"].reset_index()\n",
    "rescount.columns=['county_string', 'restaurant_count']\n",
    "TOTAL_county_reviews = res_df.groupby([\"county_string\"]).review_count.sum().reset_index()\n",
    "TOTAL_county_reviews.columns=[\"county_string\",\"review_count\"]\n",
    "TOTAL_county_avg = res_df.groupby(res_df[\"county_string\"]).mean().reset_index()\n",
    "\n",
    "\n",
    "county_stats = TOTAL_county_avg.merge(TOTAL_county_reviews, on=\"county_string\")\n",
    "csdf = county_stats.merge(counties, on=\"county_string\")\n",
    "c_df = rescount.merge(csdf, on=\"county_string\")\n",
    "c_df.to_csv('c_df.csv')"
   ]
  },
  {
   "cell_type": "code",
   "execution_count": null,
   "metadata": {},
   "outputs": [],
   "source": [
    "current_county=\"Pottawatomie County, Oklahoma\"\n",
    "WCO = res_df.groupby(res_df[\"county_string\"]).get_group(current_county)\n",
    "WCObreakdown = pd.DataFrame(WCO[\"category\"].value_counts()).T.reset_index()\n",
    "WCOrate = pd.DataFrame(WCO[\"rating\"].value_counts()).T.reset_index()\n",
    "WCObreakdown[\"county_string\"]=current_county\n",
    "WCO_price_avg = WCO.groupby(res_df[\"price\"]).mean()\n",
    "WCO_price_count = WCO[\"price\"].value_counts()\n",
    "WCOrate\n"
   ]
  },
  {
   "cell_type": "code",
   "execution_count": null,
   "metadata": {},
   "outputs": [],
   "source": [
    "comp_df = pd.DataFrame(columns=[\"Italian\",\"Mexican\",\"Chinese\",\"American\", \"Indian\",\"county_string\"])\n",
    "comp_df = comp_df.append(CHAbreakdown)\n",
    "comp_df = comp_df.append(RALbreakdown)\n",
    "comp_df = comp_df.append(ATLbreakdown)\n",
    "comp_df = comp_df.append(MEMbreakdown)\n",
    "comp_df = comp_df.append(ORLbreakdown)\n",
    "comp_df = comp_df.append(MILbreakdown)\n",
    "comp_df = comp_df.append(SFCbreakdown)\n",
    "comp_df = comp_df.append(AUSbreakdown)\n",
    "comp_df = comp_df.append(PITbreakdown)\n",
    "comp_df = comp_df.reset_index()\n",
    "del comp_df[\"index\"]\n",
    "del comp_df[\"level_0\"]\n",
    "#comp_df[\"Totals\"]=comp_df[\"Italian\"]+comp_df[\"Mexican\"]+comp_df[\"Chinese\"]+comp_df[\"Indian\"]+comp_df[\"American\"]\n",
    "comp_df"
   ]
  },
  {
   "cell_type": "code",
   "execution_count": null,
   "metadata": {
    "collapsed": true
   },
   "outputs": [],
   "source": [
    "fig, axes = plt.subplots(3,3,figsize= (16,9))\n",
    "for i, (idx, row) in enumerate(comp_df.set_index(\"county_string\").iterrows()):\n",
    "    ax = axes[i // 3, i % 3]\n",
    "    row = row[row.gt(row.sum()*.01)]\n",
    "    ax.pie(row, labels=row.index)\n",
    "    ax.set_title(idx)\n",
    "fig.subplots_adjust(wspace=1)"
   ]
  },
  {
   "cell_type": "code",
   "execution_count": null,
   "metadata": {
    "collapsed": true
   },
   "outputs": [],
   "source": []
  },
  {
   "cell_type": "code",
   "execution_count": null,
   "metadata": {
    "collapsed": true
   },
   "outputs": [],
   "source": []
  },
  {
   "cell_type": "code",
   "execution_count": null,
   "metadata": {
    "collapsed": true
   },
   "outputs": [],
   "source": []
  },
  {
   "cell_type": "code",
   "execution_count": null,
   "metadata": {
    "collapsed": true
   },
   "outputs": [],
   "source": []
  },
  {
   "cell_type": "code",
   "execution_count": null,
   "metadata": {
    "collapsed": true
   },
   "outputs": [],
   "source": []
  },
  {
   "cell_type": "code",
   "execution_count": null,
   "metadata": {
    "collapsed": true
   },
   "outputs": [],
   "source": []
  },
  {
   "cell_type": "code",
   "execution_count": null,
   "metadata": {
    "collapsed": true
   },
   "outputs": [],
   "source": []
  },
  {
   "cell_type": "code",
   "execution_count": null,
   "metadata": {
    "collapsed": true
   },
   "outputs": [],
   "source": []
  },
  {
   "cell_type": "code",
   "execution_count": null,
   "metadata": {
    "collapsed": true
   },
   "outputs": [],
   "source": [
    "comp = pd.DataFrame(res_df[\"category\"].groupby(res_df[\"county_string\"]).value_counts())\n",
    "comp\n",
    "#I HAVE NO IDEA WHAT TO DO WITH THIS"
   ]
  },
  {
   "cell_type": "code",
   "execution_count": null,
   "metadata": {
    "collapsed": true
   },
   "outputs": [],
   "source": []
  },
  {
   "cell_type": "code",
   "execution_count": null,
   "metadata": {
    "collapsed": true
   },
   "outputs": [],
   "source": []
  },
  {
   "cell_type": "code",
   "execution_count": null,
   "metadata": {
    "collapsed": true
   },
   "outputs": [],
   "source": []
  },
  {
   "cell_type": "code",
   "execution_count": null,
   "metadata": {
    "collapsed": true
   },
   "outputs": [],
   "source": []
  },
  {
   "cell_type": "code",
   "execution_count": null,
   "metadata": {
    "collapsed": true
   },
   "outputs": [],
   "source": []
  },
  {
   "cell_type": "code",
   "execution_count": null,
   "metadata": {
    "collapsed": true
   },
   "outputs": [],
   "source": []
  },
  {
   "cell_type": "code",
   "execution_count": null,
   "metadata": {
    "collapsed": true
   },
   "outputs": [],
   "source": [
    "CHA = CHA[\"category\"].value_counts().reset_index()\n",
    "CHA[\"county_string\"]=\"Mecklenburg County, North Carolina\"\n",
    "CHA.columns = [\"category\",\"count\",\"county_string\"]\n",
    "CHA"
   ]
  },
  {
   "cell_type": "code",
   "execution_count": null,
   "metadata": {
    "collapsed": true
   },
   "outputs": [],
   "source": []
  },
  {
   "cell_type": "code",
   "execution_count": null,
   "metadata": {
    "collapsed": true
   },
   "outputs": [],
   "source": []
  },
  {
   "cell_type": "code",
   "execution_count": null,
   "metadata": {
    "collapsed": true
   },
   "outputs": [],
   "source": []
  },
  {
   "cell_type": "code",
   "execution_count": null,
   "metadata": {
    "collapsed": true
   },
   "outputs": [],
   "source": []
  },
  {
   "cell_type": "code",
   "execution_count": null,
   "metadata": {
    "collapsed": true
   },
   "outputs": [],
   "source": []
  },
  {
   "cell_type": "code",
   "execution_count": null,
   "metadata": {
    "collapsed": true
   },
   "outputs": [],
   "source": []
  },
  {
   "cell_type": "code",
   "execution_count": null,
   "metadata": {
    "collapsed": true
   },
   "outputs": [],
   "source": []
  }
 ],
 "metadata": {
  "kernelspec": {
   "display_name": "Python 3",
   "language": "python",
   "name": "python3"
  },
  "language_info": {
   "codemirror_mode": {
    "name": "ipython",
    "version": 3
   },
   "file_extension": ".py",
   "mimetype": "text/x-python",
   "name": "python",
   "nbconvert_exporter": "python",
   "pygments_lexer": "ipython3",
   "version": "3.6.3"
  }
 },
 "nbformat": 4,
 "nbformat_minor": 2
}
