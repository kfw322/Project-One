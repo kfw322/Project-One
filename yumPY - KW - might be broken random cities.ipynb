{
 "cells": [
  {
   "cell_type": "code",
   "execution_count": 1,
   "metadata": {},
   "outputs": [
    {
     "data": {
      "text/html": [
       "<div>\n",
       "<style scoped>\n",
       "    .dataframe tbody tr th:only-of-type {\n",
       "        vertical-align: middle;\n",
       "    }\n",
       "\n",
       "    .dataframe tbody tr th {\n",
       "        vertical-align: top;\n",
       "    }\n",
       "\n",
       "    .dataframe thead th {\n",
       "        text-align: right;\n",
       "    }\n",
       "</style>\n",
       "<table border=\"1\" class=\"dataframe\">\n",
       "  <thead>\n",
       "    <tr style=\"text-align: right;\">\n",
       "      <th></th>\n",
       "      <th>CensusId</th>\n",
       "      <th>State</th>\n",
       "      <th>County</th>\n",
       "      <th>TotalPop</th>\n",
       "      <th>Men</th>\n",
       "      <th>Women</th>\n",
       "      <th>Hispanic</th>\n",
       "      <th>White</th>\n",
       "      <th>Black</th>\n",
       "      <th>Native</th>\n",
       "      <th>...</th>\n",
       "      <th>OtherTransp</th>\n",
       "      <th>WorkAtHome</th>\n",
       "      <th>MeanCommute</th>\n",
       "      <th>Employed</th>\n",
       "      <th>PrivateWork</th>\n",
       "      <th>PublicWork</th>\n",
       "      <th>SelfEmployed</th>\n",
       "      <th>FamilyWork</th>\n",
       "      <th>Unemployment</th>\n",
       "      <th>county_string</th>\n",
       "    </tr>\n",
       "  </thead>\n",
       "  <tbody>\n",
       "    <tr>\n",
       "      <th>0</th>\n",
       "      <td>1001</td>\n",
       "      <td>Alabama</td>\n",
       "      <td>Autauga</td>\n",
       "      <td>55221</td>\n",
       "      <td>26745</td>\n",
       "      <td>28476</td>\n",
       "      <td>2.6</td>\n",
       "      <td>75.8</td>\n",
       "      <td>18.5</td>\n",
       "      <td>0.4</td>\n",
       "      <td>...</td>\n",
       "      <td>1.3</td>\n",
       "      <td>1.8</td>\n",
       "      <td>26.5</td>\n",
       "      <td>23986</td>\n",
       "      <td>73.6</td>\n",
       "      <td>20.9</td>\n",
       "      <td>5.5</td>\n",
       "      <td>0.0</td>\n",
       "      <td>7.6</td>\n",
       "      <td>Autauga County, Alabama</td>\n",
       "    </tr>\n",
       "  </tbody>\n",
       "</table>\n",
       "<p>1 rows × 38 columns</p>\n",
       "</div>"
      ],
      "text/plain": [
       "   CensusId    State   County  TotalPop    Men  Women  Hispanic  White  Black  \\\n",
       "0      1001  Alabama  Autauga     55221  26745  28476       2.6   75.8   18.5   \n",
       "\n",
       "   Native           ...             OtherTransp  WorkAtHome  MeanCommute  \\\n",
       "0     0.4           ...                     1.3         1.8         26.5   \n",
       "\n",
       "   Employed  PrivateWork  PublicWork  SelfEmployed  FamilyWork  Unemployment  \\\n",
       "0     23986         73.6        20.9           5.5         0.0           7.6   \n",
       "\n",
       "             county_string  \n",
       "0  Autauga County, Alabama  \n",
       "\n",
       "[1 rows x 38 columns]"
      ]
     },
     "execution_count": 1,
     "metadata": {},
     "output_type": "execute_result"
    }
   ],
   "source": [
    "import yelpapi\n",
    "import json\n",
    "import requests\n",
    "from  pprint import  pprint\n",
    "import pandas as pd\n",
    "import numpy as np\n",
    "import random\n",
    "import matplotlib.pyplot as plt\n",
    "\n",
    "#reading in county data\n",
    "counties=pd.read_csv(\"acs2015_county_data.csv\")\n",
    "counties[\"county_string\"] = counties[\"County\"] + \" County, \" + counties[\"State\"]\n",
    "listofcounties = counties[\"county_string\"].tolist()\n",
    "#reading in zipcodes\n",
    "zipcodes=pd.read_csv(\"zip_codes_states.csv\")\n",
    "zipcodes[\"county_string\"] = zipcodes[\"county\"] + \" County, \" + zipcodes[\"state\"]\n",
    "listofzipcodes=zipcodes[\"county_string\"].unique().tolist()\n",
    "counties.to_csv(\"counties.csv\")\n",
    "zipcodes.to_csv(\"zcs.csv\")\n",
    "fullcountylist = list(set(listofcounties) & set(listofzipcodes))\n",
    "counties.head(1)"
   ]
  },
  {
   "cell_type": "code",
   "execution_count": 2,
   "metadata": {},
   "outputs": [],
   "source": [
    "#creating regions\n",
    "WC = [\"Washington\",\"Oregon\",\"California\",\"Nevada\",\"Idaho\"]\n",
    "MW = [\"Montana\",\"Wyoming\",\"North Dakota\",\"South Dakota\",\"Nebraska\",\"Kansas\",\"Minnesota\",\"Iowa\",\"Missouri\",\n",
    "      \"Wisconsin\",\"Illinois\",\"Michigan\",\"Indiana\",\"Ohio\",\"Kentucky\"]\n",
    "SW = [\"Arizona\",\"Utah\",\"Colorado\",\"New Mexico\",\"Oklahoma\",\"Texas\"]\n",
    "SE = [\"Arkansas\",\"Louisiana\",\"Mississippi\",\"Alabama\",\"Tennessee\",\"Virginia\",\"West Virginia\",\"North Carolina\",\"South Carolina\",\"Georgia\",\"Florida\"]\n",
    "NE = [\"District of Columbia\",\"Pennsylvania\",\"Maryland\",\"Delaware\",\"New Jersey\",\"New York\",\"Maine\",\"New Hampshire\",\"Vermont\",\"Massachusetts\",\"Rhode Island\",\"Connecticut\"]\n",
    "counties[\"Region\"]= np.where(counties[\"State\"].isin(WC),'WC',\n",
    "                    np.where(counties[\"State\"].isin(MW),'MW',\n",
    "                    np.where(counties[\"State\"].isin(SW),'SW',\n",
    "                    np.where(counties[\"State\"].isin(SE),'SE',\n",
    "                    np.where(counties[\"State\"].isin(NE),'NE', \n",
    "                             'other')))))"
   ]
  },
  {
   "cell_type": "code",
   "execution_count": 3,
   "metadata": {},
   "outputs": [
    {
     "data": {
      "text/plain": [
       "['Washington County, Idaho',\n",
       " 'Washington County, Oregon',\n",
       " 'Washington County, Ohio',\n",
       " 'Sweetwater County, Wyoming',\n",
       " 'Cochise County, Arizona',\n",
       " 'La Plata County, Colorado',\n",
       " 'Hampton County, South Carolina',\n",
       " 'Saline County, Arkansas',\n",
       " 'Ocean County, New Jersey',\n",
       " 'Somerset County, New Jersey']"
      ]
     },
     "execution_count": 3,
     "metadata": {},
     "output_type": "execute_result"
    }
   ],
   "source": [
    "#counties.groupby([\"Region\"]).sum()[\"TotalPop\"]\n",
    "cdf = pd.DataFrame(counties,columns=[\"county_string\",\"Region\"])\n",
    "WClist = (cdf.groupby(\"Region\").get_group(\"WC\")[\"county_string\"]).tolist()\n",
    "MWlist = (cdf.groupby(\"Region\").get_group(\"MW\")[\"county_string\"]).tolist()\n",
    "SWlist = (cdf.groupby(\"Region\").get_group(\"SW\")[\"county_string\"]).tolist()\n",
    "SElist = (cdf.groupby(\"Region\").get_group(\"SE\")[\"county_string\"]).tolist()\n",
    "NElist = (cdf.groupby(\"Region\").get_group(\"NE\")[\"county_string\"]).tolist()\n",
    "\n",
    "sample_list = []\n",
    "sample_list.extend(random.sample(list(set(WClist) & set(fullcountylist)),2))\n",
    "sample_list.extend(random.sample(list(set(MWlist) & set(fullcountylist)),2))\n",
    "sample_list.extend(random.sample(list(set(SWlist) & set(fullcountylist)),2))\n",
    "sample_list.extend(random.sample(list(set(SElist) & set(fullcountylist)),2))\n",
    "sample_list.extend(random.sample(list(set(NElist) & set(fullcountylist)),2))\n",
    "sample_list"
   ]
  },
  {
   "cell_type": "code",
   "execution_count": null,
   "metadata": {},
   "outputs": [],
   "source": []
  },
  {
   "cell_type": "code",
   "execution_count": null,
   "metadata": {},
   "outputs": [],
   "source": []
  },
  {
   "cell_type": "code",
   "execution_count": null,
   "metadata": {},
   "outputs": [],
   "source": []
  },
  {
   "cell_type": "code",
   "execution_count": null,
   "metadata": {},
   "outputs": [],
   "source": []
  },
  {
   "cell_type": "code",
   "execution_count": null,
   "metadata": {},
   "outputs": [],
   "source": []
  },
  {
   "cell_type": "code",
   "execution_count": null,
   "metadata": {},
   "outputs": [],
   "source": []
  },
  {
   "cell_type": "code",
   "execution_count": null,
   "metadata": {},
   "outputs": [],
   "source": []
  },
  {
   "cell_type": "code",
   "execution_count": null,
   "metadata": {},
   "outputs": [],
   "source": []
  },
  {
   "cell_type": "code",
   "execution_count": null,
   "metadata": {},
   "outputs": [],
   "source": [
    "\n"
   ]
  },
  {
   "cell_type": "code",
   "execution_count": 4,
   "metadata": {},
   "outputs": [
    {
     "data": {
      "text/html": [
       "<div>\n",
       "<style scoped>\n",
       "    .dataframe tbody tr th:only-of-type {\n",
       "        vertical-align: middle;\n",
       "    }\n",
       "\n",
       "    .dataframe tbody tr th {\n",
       "        vertical-align: top;\n",
       "    }\n",
       "\n",
       "    .dataframe thead th {\n",
       "        text-align: right;\n",
       "    }\n",
       "</style>\n",
       "<table border=\"1\" class=\"dataframe\">\n",
       "  <thead>\n",
       "    <tr style=\"text-align: right;\">\n",
       "      <th></th>\n",
       "      <th>name</th>\n",
       "      <th>zipcode</th>\n",
       "      <th>county_string</th>\n",
       "      <th>rating</th>\n",
       "      <th>review_count</th>\n",
       "      <th>category</th>\n",
       "      <th>price</th>\n",
       "    </tr>\n",
       "  </thead>\n",
       "  <tbody>\n",
       "  </tbody>\n",
       "</table>\n",
       "</div>"
      ],
      "text/plain": [
       "Empty DataFrame\n",
       "Columns: [name, zipcode, county_string, rating, review_count, category, price]\n",
       "Index: []"
      ]
     },
     "execution_count": 4,
     "metadata": {},
     "output_type": "execute_result"
    }
   ],
   "source": [
    "res_df = pd.DataFrame(columns=[\"name\",\"zipcode\",\"county_string\",\"rating\",\"review_count\",\"category\",\"price\"])\n",
    "res_df"
   ]
  },
  {
   "cell_type": "code",
   "execution_count": 5,
   "metadata": {},
   "outputs": [
    {
     "ename": "IndexError",
     "evalue": "list index out of range",
     "output_type": "error",
     "traceback": [
      "\u001b[1;31m---------------------------------------------------------------------------\u001b[0m",
      "\u001b[1;31mIndexError\u001b[0m                                Traceback (most recent call last)",
      "\u001b[1;32m<ipython-input-5-24dca7459fbc>\u001b[0m in \u001b[0;36m<module>\u001b[1;34m()\u001b[0m\n\u001b[0;32m     18\u001b[0m \u001b[1;33m\u001b[0m\u001b[0m\n\u001b[0;32m     19\u001b[0m                     \u001b[1;32mfor\u001b[0m \u001b[0mx\u001b[0m \u001b[1;32min\u001b[0m \u001b[0mrange\u001b[0m\u001b[1;33m(\u001b[0m\u001b[1;36m0\u001b[0m\u001b[1;33m,\u001b[0m\u001b[1;36m49\u001b[0m\u001b[1;33m)\u001b[0m\u001b[1;33m:\u001b[0m\u001b[1;33m\u001b[0m\u001b[0m\n\u001b[1;32m---> 20\u001b[1;33m                         \u001b[1;32mfor\u001b[0m \u001b[0my\u001b[0m \u001b[1;32min\u001b[0m \u001b[0mrange\u001b[0m\u001b[1;33m(\u001b[0m\u001b[1;36m0\u001b[0m\u001b[1;33m,\u001b[0m\u001b[0mlen\u001b[0m\u001b[1;33m(\u001b[0m\u001b[0mresponsejson\u001b[0m\u001b[1;33m[\u001b[0m\u001b[1;34m\"businesses\"\u001b[0m\u001b[1;33m]\u001b[0m\u001b[1;33m[\u001b[0m\u001b[0mx\u001b[0m\u001b[1;33m]\u001b[0m\u001b[1;33m[\u001b[0m\u001b[1;34m\"categories\"\u001b[0m\u001b[1;33m]\u001b[0m\u001b[1;33m)\u001b[0m\u001b[1;33m)\u001b[0m\u001b[1;33m:\u001b[0m\u001b[1;33m\u001b[0m\u001b[0m\n\u001b[0m\u001b[0;32m     21\u001b[0m \u001b[1;33m\u001b[0m\u001b[0m\n\u001b[0;32m     22\u001b[0m                             if (responsejson[\"businesses\"][x][\"categories\"][y][\"title\"].startswith(str(term)) and \n",
      "\u001b[1;31mIndexError\u001b[0m: list index out of range"
     ]
    }
   ],
   "source": [
    "r = 0\n",
    "for c in sample_list:\n",
    "    county_string = str(c)\n",
    "    for term in [\"Italian\",\"Mexican\",\"Chinese\",\"American\",\"Indian\"]:\n",
    "        #we are allowed 5000 queries per 24 hours. if we run out, we can create another. till then, use this\n",
    "        yelpkey=\"IXRN_1GI8f8J9Kj5O5GciqeyFSWR5RMh41_rADGy1KrtQ5ZABGGZEkWwot5mOka0NlzlNxXPmzYXLWk88oOV0N_YxD1MSW4kQRfJnFrwfHLtKrr2HcsjLo6uWBzAWnYx\"\n",
    "        if True:########################33\n",
    "            offset=0\n",
    "            for loopcount in range(5):\n",
    "                \n",
    "                response = requests.get(url=\"https://api.yelp.com/v3/businesses/search\", \n",
    "                       params= {\"location\": county_string,\"term\": term, \"limit\":\"50\", \"offset\": offset}, \n",
    "                       headers={'Authorization': 'bearer %s' % yelpkey})\n",
    "                responsejson = response.json()\n",
    "                offset += 50\n",
    "                if True: #####################################3\n",
    "                    count=0\n",
    "            \n",
    "                    for x in range(0,49):\n",
    "                        for y in range(0,len(responsejson[\"businesses\"][x][\"categories\"])):\n",
    "                            \n",
    "                            if (responsejson[\"businesses\"][x][\"categories\"][y][\"title\"].startswith(str(term)) and \n",
    "                                (responsejson[\"businesses\"][x][\"review_count\"] > 0)):\n",
    "                        \n",
    "                                zc = int(responsejson[\"businesses\"][x][\"location\"][\"zip_code\"])\n",
    "                                if (zipcodes.loc[zipcodes[\"zip_code\"]==zc][\"county_string\"].tolist()[0]== county_string):\n",
    "                                    if (zc == 72342):\n",
    "                                        res_df.loc[r]=[responsejson[\"businesses\"][x][\"name\"],\n",
    "                                                    str(zc),\n",
    "                                                    county_string,\n",
    "                                                    responsejson[\"businesses\"][x][\"rating\"],                                          \n",
    "                                                    responsejson[\"businesses\"][x][\"review_count\"],\n",
    "                                                    term,\n",
    "                                                    responsejson[\"businesses\"][x][\"price\"]]\n",
    "                                        print(\"\\n\",x,\n",
    "                                            responsejson[\"businesses\"][x][\"name\"],\n",
    "                                            responsejson[\"businesses\"][x][\"location\"][\"zip_code\"],\n",
    "                                            zipcodes.loc[zipcodes[\"zip_code\"]==zc][\"county_string\"].tolist()[0],\n",
    "                                            responsejson[\"businesses\"][x][\"rating\"],\n",
    "                                            responsejson[\"businesses\"][x][\"review_count\"],\n",
    "                                            responsejson[\"businesses\"][x][\"categories\"][y][\"title\"])\n",
    "\n",
    "                                    \n",
    "                                r += 1\n",
    "                                count += 1\n",
    "                                    \n",
    "                #except:\n",
    "                    #print(\"AAA \\n\")\n",
    "                    #break\n",
    "    \n",
    "                print(\"End of list. Found\", count, term, \"restaurants in\", county_string)\n",
    "        #except:\n",
    "            #break\n"
   ]
  },
  {
   "cell_type": "code",
   "execution_count": null,
   "metadata": {},
   "outputs": [],
   "source": [
    "\n",
    "res_df.to_csv(\"output1804042050.csv\")\n",
    "res_df.price.replace([\"$\",\"$$\",\"$$$\",\"$$$$\"],[1,2,3,4],inplace=True)\n",
    "res_df"
   ]
  },
  {
   "cell_type": "code",
   "execution_count": null,
   "metadata": {},
   "outputs": [],
   "source": [
    "itadf = res_df.groupby(res_df[\"category\"]).get_group(\"Italian\")\n",
    "mexdf = res_df.groupby(res_df[\"category\"]).get_group(\"Mexican\")\n",
    "chndf = res_df.groupby(res_df[\"category\"]).get_group(\"Chinese\")\n",
    "usadf = res_df.groupby(res_df[\"category\"]).get_group(\"American\")\n",
    "inddf = res_df.groupby(res_df[\"category\"]).get_group(\"Indian\")\n",
    "res_df.loc[res_df[\"zipcode\"]==\"72342\"]\n",
    "# CHA = res_df.groupby(res_df[\"county_string\"]).get_group(\"Mecklenburg County, North Carolina\")\n",
    "# CHAbreakdown = pd.DataFrame(CHA[\"category\"].value_counts()).T.reset_index()\n",
    "# CHAbreakdown[\"county_string\"]=\"Mecklenburg County, North Carolina\"\n",
    "# CHA_price_avg = CHA.groupby(res_df[\"price\"]).mean()\n",
    "# CHA_price_count = CHA[\"price\"].value_counts()\n",
    "\n",
    "# RAL = res_df.groupby(res_df[\"county_string\"]).get_group(\"Wake County, North Carolina\")\n",
    "# RALbreakdown = pd.DataFrame(RAL[\"category\"].value_counts()).T.reset_index()\n",
    "# RALbreakdown[\"county_string\"]=\"Wake County, North Carolina\"\n",
    "# RAL_price_avg = RAL.groupby(res_df[\"price\"]).mean()\n",
    "# RAL_price_count = RAL[\"price\"].value_counts()\n",
    "\n",
    "# ATL = res_df.groupby(res_df[\"county_string\"]).get_group(\"Fulton County, Georgia\")\n",
    "# ATLbreakdown = pd.DataFrame(ATL[\"category\"].value_counts()).T.reset_index()\n",
    "# ATLbreakdown[\"county_string\"]=\"Fulton County, Georgia\"\n",
    "# ATL_price_avg = ATL.groupby(res_df[\"price\"]).mean()\n",
    "# ATL_price_count = ATL[\"price\"].value_counts()\n",
    "\n",
    "# MEM = res_df.groupby(res_df[\"county_string\"]).get_group(\"Shelby County, Tennessee\")\n",
    "# MEMbreakdown = pd.DataFrame(MEM[\"category\"].value_counts()).T.reset_index()\n",
    "# MEMbreakdown[\"county_string\"]=\"Shelby County, Tennessee\"\n",
    "# MEM_price_avg = MEM.groupby(res_df[\"price\"]).mean()\n",
    "# MEM_price_count = MEM[\"price\"].value_counts()\n",
    "\n",
    "\n",
    "# ORL = res_df.groupby(res_df[\"county_string\"]).get_group(\"Orange County, Florida\")\n",
    "# ORLbreakdown = pd.DataFrame(ORL[\"category\"].value_counts()).T.reset_index()\n",
    "# ORLbreakdown[\"county_string\"]=\"Orange County, Florida\"\n",
    "# ORL_price_avg = ORL.groupby(res_df[\"price\"]).mean()\n",
    "# ORL_price_count = ORL[\"price\"].value_counts()\n",
    "\n",
    "# MIL = res_df.groupby(res_df[\"county_string\"]).get_group(\"Milwaukee County, Wisconsin\")\n",
    "# MILbreakdown = pd.DataFrame(MIL[\"category\"].value_counts()).T.reset_index()\n",
    "# MILbreakdown[\"county_string\"]=\"Milwaukee County, Wisconsin\"\n",
    "# MIL_price_avg = MIL.groupby(res_df[\"price\"]).mean()\n",
    "# MIL_price_count = MIL[\"price\"].value_counts()\n",
    "\n",
    "# SFC = res_df.groupby(res_df[\"county_string\"]).get_group(\"San Francisco County, California\")\n",
    "# SFCbreakdown = pd.DataFrame(SFC[\"category\"].value_counts()).T.reset_index()\n",
    "# SFCbreakdown[\"county_string\"]=\"San Francisco County, California\"\n",
    "# SFC_price_avg = SFC.groupby(res_df[\"price\"]).mean()\n",
    "# SFC_price_count = SFC[\"price\"].value_counts()\n",
    "\n",
    "# AUS = res_df.groupby(res_df[\"county_string\"]).get_group(\"Travis County, Texas\")\n",
    "# AUSbreakdown = pd.DataFrame(AUS[\"category\"].value_counts()).T.reset_index()\n",
    "# AUSbreakdown[\"county_string\"]=\"Travis County, Texas\"\n",
    "# AUS_price_avg = AUS.groupby(res_df[\"price\"]).mean()\n",
    "# AUS_price_count = AUS[\"price\"].value_counts()\n",
    "\n",
    "# PIT = res_df.groupby(res_df[\"county_string\"]).get_group(\"Allegheny County, Pennsylvania\")\n",
    "# PITbreakdown = pd.DataFrame(PIT[\"category\"].value_counts()).T.reset_index()\n",
    "# PITbreakdown[\"county_string\"]=\"Allegheny County, Pennsylvania\"\n",
    "# PIT_price_avg = PIT.groupby(res_df[\"price\"]).mean()\n",
    "# PIT_price_count = PIT[\"price\"].value_counts()\n"
   ]
  },
  {
   "cell_type": "code",
   "execution_count": null,
   "metadata": {},
   "outputs": [],
   "source": [
    "TOTAL_price_avg = res_df.groupby([\"price\"]).mean()\n",
    "rescount = res_df.groupby([\"county_string\"]).count()[\"name\"].reset_index()\n",
    "rescount.columns=['county_string', 'restaurant_count']\n",
    "TOTAL_county_reviews = res_df.groupby([\"county_string\"]).review_count.sum().reset_index()\n",
    "TOTAL_county_reviews.columns=[\"county_string\",\"review_count\"]\n",
    "TOTAL_county_avg = res_df.groupby(res_df[\"county_string\"]).mean().reset_index()\n",
    "\n",
    "county_stats = TOTAL_county_avg.merge(TOTAL_county_reviews, on=\"county_string\")\n",
    "csdf = county_stats.merge(counties, on=\"county_string\")\n",
    "c_df = rescount.merge(csdf, on=\"county_string\")\n",
    "c_df"
   ]
  },
  {
   "cell_type": "code",
   "execution_count": null,
   "metadata": {},
   "outputs": [],
   "source": [
    "current_county=\"Phillips County, Arkansas\"\n",
    "SLC = res_df.groupby(res_df[\"county_string\"]).get_group(current_county)\n",
    "SLCbreakdown = pd.DataFrame(SLC[\"category\"].value_counts()).T.reset_index()\n",
    "SLCrate = pd.DataFrame(SLC[\"rating\"].value_counts()).T.reset_index()\n",
    "SLCbreakdown[\"county_string\"]=current_county\n",
    "SLC_price_avg = SLC.groupby(res_df[\"price\"]).mean()\n",
    "SLC_price_count = SLC[\"price\"].value_counts()\n",
    "SLC"
   ]
  },
  {
   "cell_type": "code",
   "execution_count": null,
   "metadata": {},
   "outputs": [],
   "source": []
  },
  {
   "cell_type": "code",
   "execution_count": null,
   "metadata": {},
   "outputs": [],
   "source": []
  },
  {
   "cell_type": "code",
   "execution_count": null,
   "metadata": {},
   "outputs": [],
   "source": []
  },
  {
   "cell_type": "code",
   "execution_count": null,
   "metadata": {},
   "outputs": [],
   "source": [
    "comp_df = pd.DataFrame(columns=[\"Italian\",\"Mexican\",\"Chinese\",\"American\", \"Indian\",\"county_string\"])\n",
    "comp_df = comp_df.append(CHAbreakdown)\n",
    "comp_df = comp_df.append(RALbreakdown)\n",
    "comp_df = comp_df.append(ATLbreakdown)\n",
    "comp_df = comp_df.append(MEMbreakdown)\n",
    "comp_df = comp_df.append(ORLbreakdown)\n",
    "comp_df = comp_df.append(MILbreakdown)\n",
    "comp_df = comp_df.append(SFCbreakdown)\n",
    "comp_df = comp_df.append(AUSbreakdown)\n",
    "comp_df = comp_df.append(PITbreakdown)\n",
    "comp_df = comp_df.reset_index()\n",
    "del comp_df[\"index\"]\n",
    "del comp_df[\"level_0\"]\n",
    "#comp_df[\"Totals\"]=comp_df[\"Italian\"]+comp_df[\"Mexican\"]+comp_df[\"Chinese\"]+comp_df[\"Indian\"]+comp_df[\"American\"]\n",
    "comp_df"
   ]
  },
  {
   "cell_type": "code",
   "execution_count": null,
   "metadata": {},
   "outputs": [],
   "source": [
    "fig, axes = plt.subplots(3,3,figsize= (16,9))\n",
    "for i, (idx, row) in enumerate(comp_df.set_index(\"county_string\").iterrows()):\n",
    "    ax = axes[i // 3, i % 3]\n",
    "    row = row[row.gt(row.sum()*.01)]\n",
    "    ax.pie(row, labels=row.index)\n",
    "    ax.set_title(idx)\n",
    "fig.subplots_adjust(wspace=1)"
   ]
  },
  {
   "cell_type": "code",
   "execution_count": null,
   "metadata": {},
   "outputs": [],
   "source": []
  },
  {
   "cell_type": "code",
   "execution_count": null,
   "metadata": {},
   "outputs": [],
   "source": []
  },
  {
   "cell_type": "code",
   "execution_count": null,
   "metadata": {},
   "outputs": [],
   "source": []
  },
  {
   "cell_type": "code",
   "execution_count": null,
   "metadata": {},
   "outputs": [],
   "source": []
  },
  {
   "cell_type": "code",
   "execution_count": null,
   "metadata": {},
   "outputs": [],
   "source": []
  },
  {
   "cell_type": "code",
   "execution_count": null,
   "metadata": {},
   "outputs": [],
   "source": []
  },
  {
   "cell_type": "code",
   "execution_count": null,
   "metadata": {},
   "outputs": [],
   "source": []
  },
  {
   "cell_type": "code",
   "execution_count": null,
   "metadata": {},
   "outputs": [],
   "source": []
  },
  {
   "cell_type": "code",
   "execution_count": null,
   "metadata": {},
   "outputs": [],
   "source": [
    "comp = pd.DataFrame(res_df[\"category\"].groupby(res_df[\"county_string\"]).value_counts())\n",
    "comp\n",
    "#I HAVE NO IDEA WHAT TO DO WITH THIS"
   ]
  },
  {
   "cell_type": "code",
   "execution_count": null,
   "metadata": {},
   "outputs": [],
   "source": []
  },
  {
   "cell_type": "code",
   "execution_count": null,
   "metadata": {},
   "outputs": [],
   "source": []
  },
  {
   "cell_type": "code",
   "execution_count": null,
   "metadata": {},
   "outputs": [],
   "source": []
  },
  {
   "cell_type": "code",
   "execution_count": null,
   "metadata": {},
   "outputs": [],
   "source": []
  },
  {
   "cell_type": "code",
   "execution_count": null,
   "metadata": {},
   "outputs": [],
   "source": []
  },
  {
   "cell_type": "code",
   "execution_count": null,
   "metadata": {},
   "outputs": [],
   "source": []
  },
  {
   "cell_type": "code",
   "execution_count": null,
   "metadata": {},
   "outputs": [],
   "source": [
    "CHA = CHA[\"category\"].value_counts().reset_index()\n",
    "CHA[\"county_string\"]=\"Mecklenburg County, North Carolina\"\n",
    "CHA.columns = [\"category\",\"count\",\"county_string\"]\n",
    "CHA"
   ]
  },
  {
   "cell_type": "code",
   "execution_count": null,
   "metadata": {},
   "outputs": [],
   "source": []
  },
  {
   "cell_type": "code",
   "execution_count": null,
   "metadata": {},
   "outputs": [],
   "source": []
  },
  {
   "cell_type": "code",
   "execution_count": null,
   "metadata": {},
   "outputs": [],
   "source": []
  },
  {
   "cell_type": "code",
   "execution_count": null,
   "metadata": {},
   "outputs": [],
   "source": []
  },
  {
   "cell_type": "code",
   "execution_count": null,
   "metadata": {},
   "outputs": [],
   "source": []
  },
  {
   "cell_type": "code",
   "execution_count": null,
   "metadata": {},
   "outputs": [],
   "source": []
  },
  {
   "cell_type": "code",
   "execution_count": null,
   "metadata": {},
   "outputs": [],
   "source": []
  }
 ],
 "metadata": {
  "kernelspec": {
   "display_name": "Python 3",
   "language": "python",
   "name": "python3"
  },
  "language_info": {
   "codemirror_mode": {
    "name": "ipython",
    "version": 3
   },
   "file_extension": ".py",
   "mimetype": "text/x-python",
   "name": "python",
   "nbconvert_exporter": "python",
   "pygments_lexer": "ipython3",
   "version": "3.6.4"
  }
 },
 "nbformat": 4,
 "nbformat_minor": 2
}
