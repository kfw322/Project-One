{
 "cells": [
  {
   "cell_type": "code",
   "execution_count": 68,
   "metadata": {},
   "outputs": [
    {
     "data": {
      "text/html": [
       "<div>\n",
       "<style>\n",
       "    .dataframe thead tr:only-child th {\n",
       "        text-align: right;\n",
       "    }\n",
       "\n",
       "    .dataframe thead th {\n",
       "        text-align: left;\n",
       "    }\n",
       "\n",
       "    .dataframe tbody tr th {\n",
       "        vertical-align: top;\n",
       "    }\n",
       "</style>\n",
       "<table border=\"1\" class=\"dataframe\">\n",
       "  <thead>\n",
       "    <tr style=\"text-align: right;\">\n",
       "      <th></th>\n",
       "      <th>CensusId</th>\n",
       "      <th>State</th>\n",
       "      <th>County</th>\n",
       "      <th>TotalPop</th>\n",
       "      <th>Men</th>\n",
       "      <th>Women</th>\n",
       "      <th>Hispanic</th>\n",
       "      <th>White</th>\n",
       "      <th>Black</th>\n",
       "      <th>Native</th>\n",
       "      <th>...</th>\n",
       "      <th>OtherTransp</th>\n",
       "      <th>WorkAtHome</th>\n",
       "      <th>MeanCommute</th>\n",
       "      <th>Employed</th>\n",
       "      <th>PrivateWork</th>\n",
       "      <th>PublicWork</th>\n",
       "      <th>SelfEmployed</th>\n",
       "      <th>FamilyWork</th>\n",
       "      <th>Unemployment</th>\n",
       "      <th>county_string</th>\n",
       "    </tr>\n",
       "  </thead>\n",
       "  <tbody>\n",
       "    <tr>\n",
       "      <th>0</th>\n",
       "      <td>1001</td>\n",
       "      <td>Alabama</td>\n",
       "      <td>Autauga</td>\n",
       "      <td>55221</td>\n",
       "      <td>26745</td>\n",
       "      <td>28476</td>\n",
       "      <td>2.6</td>\n",
       "      <td>75.8</td>\n",
       "      <td>18.5</td>\n",
       "      <td>0.4</td>\n",
       "      <td>...</td>\n",
       "      <td>1.3</td>\n",
       "      <td>1.8</td>\n",
       "      <td>26.5</td>\n",
       "      <td>23986</td>\n",
       "      <td>73.6</td>\n",
       "      <td>20.9</td>\n",
       "      <td>5.5</td>\n",
       "      <td>0.0</td>\n",
       "      <td>7.6</td>\n",
       "      <td>Autauga County, Alabama</td>\n",
       "    </tr>\n",
       "  </tbody>\n",
       "</table>\n",
       "<p>1 rows × 38 columns</p>\n",
       "</div>"
      ],
      "text/plain": [
       "   CensusId    State   County  TotalPop    Men  Women  Hispanic  White  Black  \\\n",
       "0      1001  Alabama  Autauga     55221  26745  28476       2.6   75.8   18.5   \n",
       "\n",
       "   Native           ...             OtherTransp  WorkAtHome  MeanCommute  \\\n",
       "0     0.4           ...                     1.3         1.8         26.5   \n",
       "\n",
       "   Employed  PrivateWork  PublicWork  SelfEmployed  FamilyWork  Unemployment  \\\n",
       "0     23986         73.6        20.9           5.5         0.0           7.6   \n",
       "\n",
       "             county_string  \n",
       "0  Autauga County, Alabama  \n",
       "\n",
       "[1 rows x 38 columns]"
      ]
     },
     "execution_count": 68,
     "metadata": {},
     "output_type": "execute_result"
    }
   ],
   "source": [
    "import yelpapi\n",
    "import json\n",
    "import requests\n",
    "from  pprint import  pprint\n",
    "import pandas as pd\n",
    "import numpy as np\n",
    "import random\n",
    "import seaborn as sns\n",
    "import matplotlib.pyplot as plt\n",
    "\n",
    "#reading in county data\n",
    "counties=pd.read_csv(\"acs2015_county_data.csv\")\n",
    "counties[\"county_string\"] = counties[\"County\"] + \" County, \" + counties[\"State\"]\n",
    "listofcounties = counties[\"county_string\"].tolist()\n",
    "#reading in zipcodes\n",
    "zipcodes=pd.read_csv(\"zip_codes_states.csv\")\n",
    "zipcodes[\"county_string\"] = zipcodes[\"county\"] + \" County, \" + zipcodes[\"state\"]\n",
    "listofzipcodes=zipcodes[\"county_string\"].unique().tolist()\n",
    "counties.to_csv(\"counties.csv\")\n",
    "zipcodes.to_csv(\"zcs.csv\")\n",
    "fullcountylist = list(set(listofcounties) & set(listofzipcodes))\n",
    "counties.head(1)"
   ]
  },
  {
   "cell_type": "code",
   "execution_count": 69,
   "metadata": {
    "collapsed": true
   },
   "outputs": [],
   "source": [
    "#creating regions\n",
    "WC = [\"Washington\",\"Oregon\",\"California\",\"Nevada\",\"Idaho\"]\n",
    "MW = [\"Montana\",\"Wyoming\",\"North Dakota\",\"South Dakota\",\"Nebraska\",\"Kansas\",\"Minnesota\",\"Iowa\",\"Missouri\",\n",
    "      \"Wisconsin\",\"Illinois\",\"Michigan\",\"Indiana\",\"Ohio\",\"Kentucky\"]\n",
    "SW = [\"Arizona\",\"Utah\",\"Colorado\",\"New Mexico\",\"Oklahoma\",\"Texas\"]\n",
    "SE = [\"Arkansas\",\"Louisiana\",\"Mississippi\",\"Alabama\",\"Tennessee\",\"Virginia\",\"West Virginia\",\"North Carolina\",\"South Carolina\",\"Georgia\",\"Florida\"]\n",
    "NE = [\"District of Columbia\",\"Pennsylvania\",\"Maryland\",\"Delaware\",\"New Jersey\",\"New York\",\"Maine\",\"New Hampshire\",\"Vermont\",\"Massachusetts\",\"Rhode Island\",\"Connecticut\"]\n",
    "counties[\"Region\"]= np.where(counties[\"State\"].isin(WC),'WC',\n",
    "                    np.where(counties[\"State\"].isin(MW),'MW',\n",
    "                    np.where(counties[\"State\"].isin(SW),'SW',\n",
    "                    np.where(counties[\"State\"].isin(SE),'SE',\n",
    "                    np.where(counties[\"State\"].isin(NE),'NE', \n",
    "                             'other')))))"
   ]
  },
  {
   "cell_type": "code",
   "execution_count": 70,
   "metadata": {},
   "outputs": [
    {
     "data": {
      "text/plain": [
       "['San Luis Obispo County, California',\n",
       " 'Clark County, Washington',\n",
       " 'Scott County, Missouri',\n",
       " 'Alexander County, Illinois',\n",
       " 'Kane County, Utah',\n",
       " 'Scurry County, Texas',\n",
       " 'Smyth County, Virginia',\n",
       " 'Horry County, South Carolina',\n",
       " 'Middlesex County, Massachusetts',\n",
       " 'Cape May County, New Jersey']"
      ]
     },
     "execution_count": 70,
     "metadata": {},
     "output_type": "execute_result"
    }
   ],
   "source": [
    "#counties.groupby([\"Region\"]).sum()[\"TotalPop\"]\n",
    "cdf = pd.DataFrame(counties,columns=[\"county_string\",\"Region\"])\n",
    "WClist = (cdf.groupby(\"Region\").get_group(\"WC\")[\"county_string\"]).tolist()\n",
    "MWlist = (cdf.groupby(\"Region\").get_group(\"MW\")[\"county_string\"]).tolist()\n",
    "SWlist = (cdf.groupby(\"Region\").get_group(\"SW\")[\"county_string\"]).tolist()\n",
    "SElist = (cdf.groupby(\"Region\").get_group(\"SE\")[\"county_string\"]).tolist()\n",
    "NElist = (cdf.groupby(\"Region\").get_group(\"NE\")[\"county_string\"]).tolist()\n",
    "\n",
    "sample_list = []\n",
    "sample_list.extend(random.sample(list(set(WClist) & set(fullcountylist)),2))\n",
    "sample_list.extend(random.sample(list(set(MWlist) & set(fullcountylist)),2))\n",
    "sample_list.extend(random.sample(list(set(SWlist) & set(fullcountylist)),2))\n",
    "sample_list.extend(random.sample(list(set(SElist) & set(fullcountylist)),2))\n",
    "sample_list.extend(random.sample(list(set(NElist) & set(fullcountylist)),2))\n",
    "sample_list"
   ]
  },
  {
   "cell_type": "code",
   "execution_count": 72,
   "metadata": {},
   "outputs": [
    {
     "data": {
      "text/html": [
       "<div>\n",
       "<style>\n",
       "    .dataframe thead tr:only-child th {\n",
       "        text-align: right;\n",
       "    }\n",
       "\n",
       "    .dataframe thead th {\n",
       "        text-align: left;\n",
       "    }\n",
       "\n",
       "    .dataframe tbody tr th {\n",
       "        vertical-align: top;\n",
       "    }\n",
       "</style>\n",
       "<table border=\"1\" class=\"dataframe\">\n",
       "  <thead>\n",
       "    <tr style=\"text-align: right;\">\n",
       "      <th></th>\n",
       "      <th>name</th>\n",
       "      <th>zipcode</th>\n",
       "      <th>county_string</th>\n",
       "      <th>rating</th>\n",
       "      <th>review_count</th>\n",
       "      <th>category</th>\n",
       "      <th>price</th>\n",
       "    </tr>\n",
       "  </thead>\n",
       "  <tbody>\n",
       "  </tbody>\n",
       "</table>\n",
       "</div>"
      ],
      "text/plain": [
       "Empty DataFrame\n",
       "Columns: [name, zipcode, county_string, rating, review_count, category, price]\n",
       "Index: []"
      ]
     },
     "execution_count": 72,
     "metadata": {},
     "output_type": "execute_result"
    }
   ],
   "source": [
    "res_df = pd.DataFrame(columns=[\"name\",\"zipcode\",\"county_string\",\"rating\",\"review_count\",\"category\",\"price\"])\n",
    "res_df"
   ]
  },
  {
   "cell_type": "code",
   "execution_count": 73,
   "metadata": {},
   "outputs": [
    {
     "name": "stdout",
     "output_type": "stream",
     "text": [
      "End of list. Found 32 Italian restaurants in San Luis Obispo County, California\n",
      "End of list. Found 46 Mexican restaurants in San Luis Obispo County, California\n",
      "End of list. Found 12 Italian restaurants in Clark County, Washington\n",
      "End of list. Found 2 Italian restaurants in Clark County, Washington\n",
      "End of list. Found 0 Italian restaurants in Alexander County, Illinois\n",
      "End of list. Found 0 Mexican restaurants in Alexander County, Illinois\n",
      "End of list. Found 0 Mexican restaurants in Alexander County, Illinois\n",
      "End of list. Found 0 Chinese restaurants in Alexander County, Illinois\n",
      "End of list. Found 4 American restaurants in Kane County, Utah\n",
      "End of list. Found 38 Italian restaurants in Horry County, South Carolina\n",
      "End of list. Found 35 Italian restaurants in Middlesex County, Massachusetts\n",
      "End of list. Found 32 Chinese restaurants in Middlesex County, Massachusetts\n",
      "End of list. Found 18 Chinese restaurants in Middlesex County, Massachusetts\n",
      "End of list. Found 20 Chinese restaurants in Middlesex County, Massachusetts\n",
      "End of list. Found 18 Chinese restaurants in Middlesex County, Massachusetts\n",
      "End of list. Found 17 Chinese restaurants in Middlesex County, Massachusetts\n",
      "End of list. Found 35 Indian restaurants in Middlesex County, Massachusetts\n",
      "End of list. Found 22 Indian restaurants in Middlesex County, Massachusetts\n",
      "End of list. Found 15 Indian restaurants in Middlesex County, Massachusetts\n",
      "End of list. Found 7 Indian restaurants in Middlesex County, Massachusetts\n",
      "End of list. Found 40 Italian restaurants in Cape May County, New Jersey\n"
     ]
    }
   ],
   "source": [
    "r = 0\n",
    "for c in sample_list:\n",
    "    county_string = str(c)\n",
    "    for term in [\"Italian\",\"Mexican\",\"Chinese\",\"American\",\"Indian\"]:\n",
    "        #we are allowed 5000 queries per 24 hours. if we run out, we can create another. till then, use this\n",
    "        yelpkey=\"IXRN_1GI8f8J9Kj5O5GciqeyFSWR5RMh41_rADGy1KrtQ5ZABGGZEkWwot5mOka0NlzlNxXPmzYXLWk88oOV0N_YxD1MSW4kQRfJnFrwfHLtKrr2HcsjLo6uWBzAWnYx\"\n",
    "        try:\n",
    "            offset=0\n",
    "            for loopcount in range(5):\n",
    "                \n",
    "                response = requests.get(url=\"https://api.yelp.com/v3/businesses/search\", \n",
    "                       params= {\"location\": county_string,\"term\": term, \"limit\":\"50\", \"offset\": offset}, \n",
    "                       headers={'Authorization': 'bearer %s' % yelpkey})\n",
    "                responsejson = response.json()\n",
    "                offset += 50\n",
    "                try:\n",
    "                    count=0\n",
    "            \n",
    "                    for x in range(0,49):\n",
    "                        for y in range(0,len(responsejson[\"businesses\"][x][\"categories\"])):\n",
    "                            \n",
    "                            if ((str(responsejson[\"businesses\"][x][\"categories\"][y][\"title\"]).startswith(str(term))) and \n",
    "                                (responsejson[\"businesses\"][x][\"review_count\"] > 0)):\n",
    "                        \n",
    "                                zc = int(responsejson[\"businesses\"][x][\"location\"][\"zip_code\"])\n",
    "                                if (zipcodes.loc[zipcodes[\"zip_code\"]==zc][\"county_string\"].tolist()[0]== county_string):\n",
    "                            \n",
    "#                                     print(\"\\n\",responsejson[\"businesses\"][x][\"name\"],\n",
    "#                                           responsejson[\"businesses\"][x][\"location\"][\"zip_code\"],\n",
    "#                                           zipcodes.loc[zipcodes[\"zip_code\"]==zc][\"county_string\"].tolist()[0],\n",
    "#                                           responsejson[\"businesses\"][x][\"rating\"],\n",
    "#                                           responsejson[\"businesses\"][x][\"review_count\"],\n",
    "#                                           responsejson[\"businesses\"][x][\"categories\"][y][\"title\"])\n",
    "                            \n",
    "                                    res_df.loc[r]=[responsejson[\"businesses\"][x][\"name\"],\n",
    "                                          str(zc),\n",
    "                                          county_string,\n",
    "                                          responsejson[\"businesses\"][x][\"rating\"],\n",
    "                                          responsejson[\"businesses\"][x][\"review_count\"],\n",
    "                                          term,\n",
    "                                          responsejson[\"businesses\"][x][\"price\"]]\n",
    "                                          #responsejson[\"businesses\"][x][\"price\"]]\n",
    "                                    count += 1\n",
    "                                    r += 1\n",
    "                except:\n",
    "                    break\n",
    "    \n",
    "                print(\"End of list. Found\", count, term, \"restaurants in\", county_string)\n",
    "        except:\n",
    "            break\n"
   ]
  },
  {
   "cell_type": "code",
   "execution_count": 74,
   "metadata": {},
   "outputs": [
    {
     "data": {
      "text/html": [
       "<div>\n",
       "<style>\n",
       "    .dataframe thead tr:only-child th {\n",
       "        text-align: right;\n",
       "    }\n",
       "\n",
       "    .dataframe thead th {\n",
       "        text-align: left;\n",
       "    }\n",
       "\n",
       "    .dataframe tbody tr th {\n",
       "        vertical-align: top;\n",
       "    }\n",
       "</style>\n",
       "<table border=\"1\" class=\"dataframe\">\n",
       "  <thead>\n",
       "    <tr style=\"text-align: right;\">\n",
       "      <th></th>\n",
       "      <th>name</th>\n",
       "      <th>zipcode</th>\n",
       "      <th>county_string</th>\n",
       "      <th>rating</th>\n",
       "      <th>review_count</th>\n",
       "      <th>category</th>\n",
       "      <th>price</th>\n",
       "    </tr>\n",
       "  </thead>\n",
       "  <tbody>\n",
       "    <tr>\n",
       "      <th>0</th>\n",
       "      <td>Giuseppe's Cucina Italiana</td>\n",
       "      <td>93449</td>\n",
       "      <td>San Luis Obispo County, California</td>\n",
       "      <td>4.0</td>\n",
       "      <td>716</td>\n",
       "      <td>Italian</td>\n",
       "      <td>2</td>\n",
       "    </tr>\n",
       "    <tr>\n",
       "      <th>1</th>\n",
       "      <td>Rosa's Italian Restaurant</td>\n",
       "      <td>93449</td>\n",
       "      <td>San Luis Obispo County, California</td>\n",
       "      <td>4.0</td>\n",
       "      <td>639</td>\n",
       "      <td>Italian</td>\n",
       "      <td>2</td>\n",
       "    </tr>\n",
       "    <tr>\n",
       "      <th>2</th>\n",
       "      <td>Buona Tavola</td>\n",
       "      <td>93446</td>\n",
       "      <td>San Luis Obispo County, California</td>\n",
       "      <td>4.0</td>\n",
       "      <td>512</td>\n",
       "      <td>Italian</td>\n",
       "      <td>2</td>\n",
       "    </tr>\n",
       "    <tr>\n",
       "      <th>3</th>\n",
       "      <td>Giuseppe's Cucina Rustica</td>\n",
       "      <td>93401</td>\n",
       "      <td>San Luis Obispo County, California</td>\n",
       "      <td>4.0</td>\n",
       "      <td>548</td>\n",
       "      <td>Italian</td>\n",
       "      <td>2</td>\n",
       "    </tr>\n",
       "    <tr>\n",
       "      <th>4</th>\n",
       "      <td>Buona Tavola</td>\n",
       "      <td>93401</td>\n",
       "      <td>San Luis Obispo County, California</td>\n",
       "      <td>4.0</td>\n",
       "      <td>461</td>\n",
       "      <td>Italian</td>\n",
       "      <td>2</td>\n",
       "    </tr>\n",
       "  </tbody>\n",
       "</table>\n",
       "</div>"
      ],
      "text/plain": [
       "                         name zipcode                       county_string  \\\n",
       "0  Giuseppe's Cucina Italiana   93449  San Luis Obispo County, California   \n",
       "1   Rosa's Italian Restaurant   93449  San Luis Obispo County, California   \n",
       "2                Buona Tavola   93446  San Luis Obispo County, California   \n",
       "3   Giuseppe's Cucina Rustica   93401  San Luis Obispo County, California   \n",
       "4                Buona Tavola   93401  San Luis Obispo County, California   \n",
       "\n",
       "   rating review_count category  price  \n",
       "0     4.0          716  Italian      2  \n",
       "1     4.0          639  Italian      2  \n",
       "2     4.0          512  Italian      2  \n",
       "3     4.0          548  Italian      2  \n",
       "4     4.0          461  Italian      2  "
      ]
     },
     "execution_count": 74,
     "metadata": {},
     "output_type": "execute_result"
    }
   ],
   "source": [
    "\n",
    "res_df.to_csv(\"output1804042050.csv\")\n",
    "res_df.price.replace([\"$\",\"$$\",\"$$$\",\"$$$$\"],[1,2,3,4],inplace=True)\n",
    "res_df.head()\n",
    "\n"
   ]
  },
  {
   "cell_type": "code",
   "execution_count": 136,
   "metadata": {
    "scrolled": false
   },
   "outputs": [
    {
     "name": "stdout",
     "output_type": "stream",
     "text": [
      "Index(['name', 'zipcode', 'county_string', 'rating', 'review_count',\n",
      "       'category', 'price', 'CensusId', 'State', 'County', 'TotalPop', 'Men',\n",
      "       'Women', 'Hispanic', 'White', 'Black', 'Native', 'Asian', 'Pacific',\n",
      "       'Citizen', 'Income', 'IncomeErr', 'IncomePerCap', 'IncomePerCapErr',\n",
      "       'Poverty', 'ChildPoverty', 'Professional', 'Service', 'Office',\n",
      "       'Construction', 'Production', 'Drive', 'Carpool', 'Transit', 'Walk',\n",
      "       'OtherTransp', 'WorkAtHome', 'MeanCommute', 'Employed', 'PrivateWork',\n",
      "       'PublicWork', 'SelfEmployed', 'FamilyWork', 'Unemployment', 'Region'],\n",
      "      dtype='object')\n",
      "Index(['category', 'Region', 'county_string', 'price', 'rating',\n",
      "       'review_count', 'Income'],\n",
      "      dtype='object')\n"
     ]
    },
    {
     "data": {
      "text/html": [
       "<div>\n",
       "<style>\n",
       "    .dataframe thead tr:only-child th {\n",
       "        text-align: right;\n",
       "    }\n",
       "\n",
       "    .dataframe thead th {\n",
       "        text-align: left;\n",
       "    }\n",
       "\n",
       "    .dataframe tbody tr th {\n",
       "        vertical-align: top;\n",
       "    }\n",
       "</style>\n",
       "<table border=\"1\" class=\"dataframe\">\n",
       "  <thead>\n",
       "    <tr style=\"text-align: right;\">\n",
       "      <th></th>\n",
       "      <th>category</th>\n",
       "      <th>Region</th>\n",
       "      <th>price</th>\n",
       "      <th>rating</th>\n",
       "      <th>Income</th>\n",
       "      <th>review_count</th>\n",
       "    </tr>\n",
       "  </thead>\n",
       "  <tbody>\n",
       "    <tr>\n",
       "      <th>0</th>\n",
       "      <td>American</td>\n",
       "      <td>MW</td>\n",
       "      <td>1</td>\n",
       "      <td>4.0</td>\n",
       "      <td>39162.0</td>\n",
       "      <td>7</td>\n",
       "    </tr>\n",
       "    <tr>\n",
       "      <th>1</th>\n",
       "      <td>American</td>\n",
       "      <td>MW</td>\n",
       "      <td>1</td>\n",
       "      <td>4.5</td>\n",
       "      <td>39162.0</td>\n",
       "      <td>20</td>\n",
       "    </tr>\n",
       "    <tr>\n",
       "      <th>2</th>\n",
       "      <td>American</td>\n",
       "      <td>MW</td>\n",
       "      <td>2</td>\n",
       "      <td>4.0</td>\n",
       "      <td>39162.0</td>\n",
       "      <td>459</td>\n",
       "    </tr>\n",
       "    <tr>\n",
       "      <th>3</th>\n",
       "      <td>American</td>\n",
       "      <td>MW</td>\n",
       "      <td>2</td>\n",
       "      <td>4.5</td>\n",
       "      <td>39162.0</td>\n",
       "      <td>10</td>\n",
       "    </tr>\n",
       "    <tr>\n",
       "      <th>4</th>\n",
       "      <td>American</td>\n",
       "      <td>NE</td>\n",
       "      <td>1</td>\n",
       "      <td>4.5</td>\n",
       "      <td>57637.0</td>\n",
       "      <td>51</td>\n",
       "    </tr>\n",
       "  </tbody>\n",
       "</table>\n",
       "</div>"
      ],
      "text/plain": [
       "   category Region  price  rating   Income  review_count\n",
       "0  American     MW      1     4.0  39162.0             7\n",
       "1  American     MW      1     4.5  39162.0            20\n",
       "2  American     MW      2     4.0  39162.0           459\n",
       "3  American     MW      2     4.5  39162.0            10\n",
       "4  American     NE      1     4.5  57637.0            51"
      ]
     },
     "execution_count": 136,
     "metadata": {},
     "output_type": "execute_result"
    }
   ],
   "source": [
    "#Merged the data with the counties CSV file\n",
    "\n",
    "merged= pd.merge(res_df,counties, how='left', on=\"county_string\",)\n",
    "\n",
    "# created DataFrame with limited fields\n",
    "newdf1= merged[['category', 'Region','county_string', 'price','rating', 'review_count','Income']]\n",
    "print(newdf1.columns)\n",
    "# summing the review count\n",
    "gdf= newdf1.groupby(['category', 'Region','price','rating','Income'])['review_count'].sum()\n",
    "gdf.head(200)\n",
    "gdf.to_csv('newdf1.csv', header=True)\n",
    "newdf = pd.read_csv(\"newdf1.csv\")\n",
    "newdf.head()"
   ]
  },
  {
   "cell_type": "code",
   "execution_count": 173,
   "metadata": {},
   "outputs": [
    {
     "name": "stderr",
     "output_type": "stream",
     "text": [
      "C:\\Users\\omsairam\\Anaconda3\\lib\\site-packages\\ipykernel_launcher.py:3: SettingWithCopyWarning: \n",
      "A value is trying to be set on a copy of a slice from a DataFrame.\n",
      "Try using .loc[row_indexer,col_indexer] = value instead\n",
      "\n",
      "See the caveats in the documentation: http://pandas.pydata.org/pandas-docs/stable/indexing.html#indexing-view-versus-copy\n",
      "  This is separate from the ipykernel package so we can avoid doing imports until\n"
     ]
    },
    {
     "data": {
      "text/html": [
       "<div>\n",
       "<style>\n",
       "    .dataframe thead tr:only-child th {\n",
       "        text-align: right;\n",
       "    }\n",
       "\n",
       "    .dataframe thead th {\n",
       "        text-align: left;\n",
       "    }\n",
       "\n",
       "    .dataframe tbody tr th {\n",
       "        vertical-align: top;\n",
       "    }\n",
       "</style>\n",
       "<table border=\"1\" class=\"dataframe\">\n",
       "  <thead>\n",
       "    <tr style=\"text-align: right;\">\n",
       "      <th></th>\n",
       "      <th>category</th>\n",
       "      <th>Region</th>\n",
       "      <th>price</th>\n",
       "      <th>rating</th>\n",
       "    </tr>\n",
       "  </thead>\n",
       "  <tbody>\n",
       "    <tr>\n",
       "      <th>0</th>\n",
       "      <td>American</td>\n",
       "      <td>MW</td>\n",
       "      <td>1</td>\n",
       "      <td>4.0</td>\n",
       "    </tr>\n",
       "    <tr>\n",
       "      <th>1</th>\n",
       "      <td>American</td>\n",
       "      <td>MW</td>\n",
       "      <td>1</td>\n",
       "      <td>4.5</td>\n",
       "    </tr>\n",
       "    <tr>\n",
       "      <th>2</th>\n",
       "      <td>American</td>\n",
       "      <td>MW</td>\n",
       "      <td>2</td>\n",
       "      <td>4.0</td>\n",
       "    </tr>\n",
       "    <tr>\n",
       "      <th>3</th>\n",
       "      <td>American</td>\n",
       "      <td>MW</td>\n",
       "      <td>2</td>\n",
       "      <td>4.5</td>\n",
       "    </tr>\n",
       "    <tr>\n",
       "      <th>4</th>\n",
       "      <td>American</td>\n",
       "      <td>NE</td>\n",
       "      <td>1</td>\n",
       "      <td>4.5</td>\n",
       "    </tr>\n",
       "  </tbody>\n",
       "</table>\n",
       "</div>"
      ],
      "text/plain": [
       "   category Region  price  rating\n",
       "0  American     MW      1     4.0\n",
       "1  American     MW      1     4.5\n",
       "2  American     MW      2     4.0\n",
       "3  American     MW      2     4.5\n",
       "4  American     NE      1     4.5"
      ]
     },
     "execution_count": 173,
     "metadata": {},
     "output_type": "execute_result"
    }
   ],
   "source": [
    "newdf5=newdf[[\"category\",\"Region\",\"price\",\"rating\"]]\n",
    "# New column Income calc expressing the income in thousands for showing better on a bar plot\n",
    "newdf6= newdf[[\"category\",\"Region\",\"review_count\"]]\n",
    "newdf6[\"Incomecalc\"]= newdf[\"Income\"]/100\n",
    "\n",
    "newdf5.head()"
   ]
  },
  {
   "cell_type": "code",
   "execution_count": 183,
   "metadata": {},
   "outputs": [
    {
     "data": {
      "image/png": "[encoded data removed]",
      "text/plain": [
       "<matplotlib.figure.Figure at 0x1df4e40e320>"
      ]
     },
     "metadata": {},
     "output_type": "display_data"
    }
   ],
   "source": [
    "#Graph 1 on DataFrame comparing price and rating count by food category\n",
    "newdf5.groupby(\"category\").mean().plot(kind='bar', figsize=(16,9))\n",
    "plt.xlabel(\"Food Category\")\n",
    "plt.ylabel('Review Count and Price')\n",
    "plt.title('Comparing Price and Rating by Food Category')\n",
    "plt.text(5, 2, 'There are more ratings for American foodand Mexican Food ' , fontsize=12)\n",
    "plt.savefig(\"Comparing_price_and_ratingcount.png\")\n",
    "plt.show()"
   ]
  },
  {
   "cell_type": "code",
   "execution_count": 187,
   "metadata": {},
   "outputs": [
    {
     "data": {
      "image/png": "[encoded data removed]",
      "text/plain": [
       "<matplotlib.figure.Figure at 0x1df4fe0ba20>"
      ]
     },
     "metadata": {},
     "output_type": "display_data"
    }
   ],
   "source": [
    "#Graph 2 on DataFrame comparing price and rating count by Region\n",
    "\n",
    "newdf5.groupby(\"Region\").mean().plot(kind='bar', figsize=(16,9))\n",
    "plt.xlabel(\"Ratings and Price\")\n",
    "plt.ylabel('Category')\n",
    "plt.title('Comparing price and Ratings by region')\n",
    "plt.text(5, 2, 'MW food Joints are rated highest followed by SE ' , fontsize=12)\n",
    "plt.text(5, 2.5, 'NE and SW eating places are more expensive ' , fontsize=12)\n",
    "plt.savefig(\"Comparing_price_and_ratingcount.png\")\n",
    "plt.show()"
   ]
  },
  {
   "cell_type": "code",
   "execution_count": 176,
   "metadata": {},
   "outputs": [
    {
     "data": {
      "text/html": [
       "<div>\n",
       "<style>\n",
       "    .dataframe thead tr:only-child th {\n",
       "        text-align: right;\n",
       "    }\n",
       "\n",
       "    .dataframe thead th {\n",
       "        text-align: left;\n",
       "    }\n",
       "\n",
       "    .dataframe tbody tr th {\n",
       "        vertical-align: top;\n",
       "    }\n",
       "</style>\n",
       "<table border=\"1\" class=\"dataframe\">\n",
       "  <thead>\n",
       "    <tr style=\"text-align: right;\">\n",
       "      <th></th>\n",
       "      <th>category</th>\n",
       "      <th>Region</th>\n",
       "      <th>review_count</th>\n",
       "      <th>Incomecalc</th>\n",
       "    </tr>\n",
       "  </thead>\n",
       "  <tbody>\n",
       "    <tr>\n",
       "      <th>0</th>\n",
       "      <td>American</td>\n",
       "      <td>MW</td>\n",
       "      <td>7</td>\n",
       "      <td>391.62</td>\n",
       "    </tr>\n",
       "    <tr>\n",
       "      <th>1</th>\n",
       "      <td>American</td>\n",
       "      <td>MW</td>\n",
       "      <td>20</td>\n",
       "      <td>391.62</td>\n",
       "    </tr>\n",
       "    <tr>\n",
       "      <th>2</th>\n",
       "      <td>American</td>\n",
       "      <td>MW</td>\n",
       "      <td>459</td>\n",
       "      <td>391.62</td>\n",
       "    </tr>\n",
       "    <tr>\n",
       "      <th>3</th>\n",
       "      <td>American</td>\n",
       "      <td>MW</td>\n",
       "      <td>10</td>\n",
       "      <td>391.62</td>\n",
       "    </tr>\n",
       "    <tr>\n",
       "      <th>4</th>\n",
       "      <td>American</td>\n",
       "      <td>NE</td>\n",
       "      <td>51</td>\n",
       "      <td>576.37</td>\n",
       "    </tr>\n",
       "  </tbody>\n",
       "</table>\n",
       "</div>"
      ],
      "text/plain": [
       "   category Region  review_count  Incomecalc\n",
       "0  American     MW             7      391.62\n",
       "1  American     MW            20      391.62\n",
       "2  American     MW           459      391.62\n",
       "3  American     MW            10      391.62\n",
       "4  American     NE            51      576.37"
      ]
     },
     "execution_count": 176,
     "metadata": {},
     "output_type": "execute_result"
    }
   ],
   "source": [
    "# Created new Data Frame to bring in only columns that are needed\n",
    "newdf6.head()"
   ]
  },
  {
   "cell_type": "code",
   "execution_count": 206,
   "metadata": {},
   "outputs": [
    {
     "data": {
      "image/png": "[encoded data removed]",
      "text/plain": [
       "<matplotlib.figure.Figure at 0x1df50ab8198>"
      ]
     },
     "metadata": {},
     "output_type": "display_data"
    }
   ],
   "source": [
    "newdf6.groupby(\"Region\").mean().plot(kind='bar', figsize=(16,9))\n",
    "plt.xlabel(\"Region\")\n",
    "plt.ylabel('Review Count and Income in thousands')\n",
    "plt.title('Comparing AVerage Income of the region with the reviews by Food Category')\n",
    "plt.text(.25,760, 'Income is higher in NE countiesbut more review count in the WC maybe because WC people like to go out more or give more reviews ' , fontsize=16)\n",
    "\n",
    "plt.savefig(\"Comparing Review count and Income of the.png\")\n",
    "plt.show()"
   ]
  },
  {
   "cell_type": "code",
   "execution_count": 217,
   "metadata": {},
   "outputs": [
    {
     "data": {
      "image/png": "[encoded data removed]",
      "text/plain": [
       "<matplotlib.figure.Figure at 0x1df4d68fd68>"
      ]
     },
     "metadata": {},
     "output_type": "display_data"
    }
   ],
   "source": [
    "sns.swarmplot(x='price', y='rating', data=newdf5, \n",
    "              hue='Region')\n",
    "plt.title(' Human behavior comparison-What type of eating places are more Common and what are the average reviews ')\n",
    "plt.text(2.5,5, 'People tend to go more to average resturants and give more reviews between 3.5 to 4.5 points ')\n",
    "\n",
    "plt.show()"
   ]
  },
  {
   "cell_type": "code",
   "execution_count": 222,
   "metadata": {},
   "outputs": [
    {
     "data": {
      "image/png": "[encoded data removed]",
      "text/plain": [
       "<matplotlib.figure.Figure at 0x1df4dfd8f28>"
      ]
     },
     "metadata": {},
     "output_type": "display_data"
    }
   ],
   "source": [
    "sns.swarmplot(x='price', y='rating', data=newdf5, \n",
    "              hue='category')\n",
    "plt.title(' Human behavior comparison- Mexican Places are more affordbale and better rated')\n",
    "plt.text(2.5,5, 'American food price varies between 1 through 4  ')\n",
    "\n",
    "plt.show()"
   ]
  },
  {
   "cell_type": "code",
   "execution_count": null,
   "metadata": {
    "collapsed": true
   },
   "outputs": [],
   "source": []
  },
  {
   "cell_type": "code",
   "execution_count": null,
   "metadata": {
    "collapsed": true
   },
   "outputs": [],
   "source": []
  },
  {
   "cell_type": "code",
   "execution_count": null,
   "metadata": {
    "collapsed": true
   },
   "outputs": [],
   "source": []
  },
  {
   "cell_type": "code",
   "execution_count": null,
   "metadata": {
    "collapsed": true
   },
   "outputs": [],
   "source": [
    "comp = pd.DataFrame(res_df[\"category\"].groupby(res_df[\"county_string\"]).value_counts())\n",
    "comp\n",
    "#I HAVE NO IDEA WHAT TO DO WITH THIS"
   ]
  },
  {
   "cell_type": "code",
   "execution_count": null,
   "metadata": {
    "collapsed": true
   },
   "outputs": [],
   "source": []
  },
  {
   "cell_type": "code",
   "execution_count": null,
   "metadata": {
    "collapsed": true
   },
   "outputs": [],
   "source": []
  },
  {
   "cell_type": "code",
   "execution_count": null,
   "metadata": {
    "collapsed": true
   },
   "outputs": [],
   "source": []
  },
  {
   "cell_type": "code",
   "execution_count": null,
   "metadata": {
    "collapsed": true
   },
   "outputs": [],
   "source": []
  },
  {
   "cell_type": "code",
   "execution_count": null,
   "metadata": {
    "collapsed": true
   },
   "outputs": [],
   "source": []
  },
  {
   "cell_type": "code",
   "execution_count": null,
   "metadata": {
    "collapsed": true
   },
   "outputs": [],
   "source": []
  },
  {
   "cell_type": "code",
   "execution_count": null,
   "metadata": {
    "collapsed": true
   },
   "outputs": [],
   "source": [
    "CHA = CHA[\"category\"].value_counts().reset_index()\n",
    "CHA[\"county_string\"]=\"Mecklenburg County, North Carolina\"\n",
    "CHA.columns = [\"category\",\"count\",\"county_string\"]\n",
    "CHA"
   ]
  },
  {
   "cell_type": "code",
   "execution_count": null,
   "metadata": {
    "collapsed": true
   },
   "outputs": [],
   "source": []
  },
  {
   "cell_type": "code",
   "execution_count": null,
   "metadata": {
    "collapsed": true
   },
   "outputs": [],
   "source": []
  },
  {
   "cell_type": "code",
   "execution_count": null,
   "metadata": {
    "collapsed": true
   },
   "outputs": [],
   "source": []
  },
  {
   "cell_type": "code",
   "execution_count": null,
   "metadata": {
    "collapsed": true
   },
   "outputs": [],
   "source": []
  },
  {
   "cell_type": "code",
   "execution_count": null,
   "metadata": {
    "collapsed": true
   },
   "outputs": [],
   "source": []
  },
  {
   "cell_type": "code",
   "execution_count": null,
   "metadata": {
    "collapsed": true
   },
   "outputs": [],
   "source": []
  },
  {
   "cell_type": "code",
   "execution_count": null,
   "metadata": {
    "collapsed": true
   },
   "outputs": [],
   "source": []
  }
 ],
 "metadata": {
  "kernelspec": {
   "display_name": "Python 3",
   "language": "python",
   "name": "python3"
  },
  "language_info": {
   "codemirror_mode": {
    "name": "ipython",
    "version": 3
   },
   "file_extension": ".py",
   "mimetype": "text/x-python",
   "name": "python",
   "nbconvert_exporter": "python",
   "pygments_lexer": "ipython3",
   "version": "3.6.3"
  }
 },
 "nbformat": 4,
 "nbformat_minor": 2
}
